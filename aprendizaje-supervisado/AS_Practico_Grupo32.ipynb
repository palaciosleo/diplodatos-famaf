{
 "cells": [
  {
   "cell_type": "markdown",
   "metadata": {
    "colab_type": "text",
    "id": "KNwUUnl3ooVn"
   },
   "source": [
    "# Diplodatos Kaggle Competition"
   ]
  },
  {
   "cell_type": "markdown",
   "metadata": {
    "colab_type": "text",
    "id": "ll3htWWtooVr"
   },
   "source": [
    "We present this peace of code to create the baseline for the competition, and as an example of how to deal with these kind of problems. The main goals are that you:\n",
    "\n",
    "1. Learn\n",
    "1. Try different models and see which one fits the best the given data\n",
    "1. Get a higher score than the given one in the current baseline example\n",
    "1. Try to get the highest score in the class :)"
   ]
  },
  {
   "cell_type": "code",
   "execution_count": 1,
   "metadata": {
    "colab": {},
    "colab_type": "code",
    "executionInfo": {
     "elapsed": 927,
     "status": "ok",
     "timestamp": 1598827238211,
     "user": {
      "displayName": "Leonardo Palacios",
      "photoUrl": "https://lh3.googleusercontent.com/a-/AOh14GhsVF6hZqKtVeeOYw6ScOA5hJYPh1n87cD4VKkRMg=s64",
      "userId": "01928733366017714942"
     },
     "user_tz": 180
    },
    "id": "AmJ7NfpTooVv"
   },
   "outputs": [],
   "source": [
    "# Import the required packages\n",
    "import os\n",
    "\n",
    "import numpy as np\n",
    "import pandas as pd\n",
    "import matplotlib.pyplot as plt"
   ]
  },
  {
   "cell_type": "markdown",
   "metadata": {
    "colab_type": "text",
    "id": "6oemu70eooWB"
   },
   "source": [
    "Read the *original* dataset..."
   ]
  },
  {
   "cell_type": "code",
   "execution_count": 2,
   "metadata": {
    "colab": {},
    "colab_type": "code",
    "executionInfo": {
     "elapsed": 3070,
     "status": "ok",
     "timestamp": 1598827240364,
     "user": {
      "displayName": "Leonardo Palacios",
      "photoUrl": "https://lh3.googleusercontent.com/a-/AOh14GhsVF6hZqKtVeeOYw6ScOA5hJYPh1n87cD4VKkRMg=s64",
      "userId": "01928733366017714942"
     },
     "user_tz": 180
    },
    "id": "C0VFaMJVooWD"
   },
   "outputs": [],
   "source": [
    "url_train = 'https://raw.githubusercontent.com/DiploDatos/AprendizajeSupervisado/master/practico/data/train.csv'\n",
    "url_test = 'https://raw.githubusercontent.com/DiploDatos/AprendizajeSupervisado/master/practico/data/test.csv'\n",
    "#url_train = '../data/train.csv'\n",
    "original_df = pd.read_csv(url_train)"
   ]
  },
  {
   "cell_type": "code",
   "execution_count": 3,
   "metadata": {
    "colab": {
     "base_uri": "https://localhost:8080/",
     "height": 70
    },
    "colab_type": "code",
    "executionInfo": {
     "elapsed": 3062,
     "status": "ok",
     "timestamp": 1598827240367,
     "user": {
      "displayName": "Leonardo Palacios",
      "photoUrl": "https://lh3.googleusercontent.com/a-/AOh14GhsVF6hZqKtVeeOYw6ScOA5hJYPh1n87cD4VKkRMg=s64",
      "userId": "01928733366017714942"
     },
     "user_tz": 180
    },
    "id": "YoHvabUCooWO",
    "outputId": "97931b59-f354-42cc-aa54-7a87670adf21"
   },
   "outputs": [
    {
     "data": {
      "text/plain": [
       "Index(['TripType', 'VisitNumber', 'Weekday', 'Upc', 'ScanCount',\n",
       "       'DepartmentDescription', 'FinelineNumber'],\n",
       "      dtype='object')"
      ]
     },
     "execution_count": 3,
     "metadata": {},
     "output_type": "execute_result"
    }
   ],
   "source": [
    "original_df.columns"
   ]
  },
  {
   "cell_type": "markdown",
   "metadata": {
    "colab_type": "text",
    "id": "orijCO3dooWb"
   },
   "source": [
    "**TripType** is the column that we should predict. That column is not present in the test set"
   ]
  },
  {
   "cell_type": "code",
   "execution_count": 4,
   "metadata": {
    "colab": {
     "base_uri": "https://localhost:8080/",
     "height": 291
    },
    "colab_type": "code",
    "executionInfo": {
     "elapsed": 3052,
     "status": "ok",
     "timestamp": 1598827240368,
     "user": {
      "displayName": "Leonardo Palacios",
      "photoUrl": "https://lh3.googleusercontent.com/a-/AOh14GhsVF6hZqKtVeeOYw6ScOA5hJYPh1n87cD4VKkRMg=s64",
      "userId": "01928733366017714942"
     },
     "user_tz": 180
    },
    "id": "EFrkZG8xooWd",
    "outputId": "38c98fef-489b-42c0-cbcf-1125fa7872a5"
   },
   "outputs": [
    {
     "data": {
      "text/html": [
       "<div>\n",
       "<style scoped>\n",
       "    .dataframe tbody tr th:only-of-type {\n",
       "        vertical-align: middle;\n",
       "    }\n",
       "\n",
       "    .dataframe tbody tr th {\n",
       "        vertical-align: top;\n",
       "    }\n",
       "\n",
       "    .dataframe thead th {\n",
       "        text-align: right;\n",
       "    }\n",
       "</style>\n",
       "<table border=\"1\" class=\"dataframe\">\n",
       "  <thead>\n",
       "    <tr style=\"text-align: right;\">\n",
       "      <th></th>\n",
       "      <th>TripType</th>\n",
       "      <th>VisitNumber</th>\n",
       "      <th>Upc</th>\n",
       "      <th>ScanCount</th>\n",
       "      <th>FinelineNumber</th>\n",
       "    </tr>\n",
       "  </thead>\n",
       "  <tbody>\n",
       "    <tr>\n",
       "      <th>count</th>\n",
       "      <td>453411.000000</td>\n",
       "      <td>453411.000000</td>\n",
       "      <td>4.505590e+05</td>\n",
       "      <td>453411.000000</td>\n",
       "      <td>450559.000000</td>\n",
       "    </tr>\n",
       "    <tr>\n",
       "      <th>mean</th>\n",
       "      <td>58.027039</td>\n",
       "      <td>95909.846115</td>\n",
       "      <td>3.075243e+10</td>\n",
       "      <td>1.108584</td>\n",
       "      <td>3727.366554</td>\n",
       "    </tr>\n",
       "    <tr>\n",
       "      <th>std</th>\n",
       "      <td>155.973370</td>\n",
       "      <td>55399.801147</td>\n",
       "      <td>9.163940e+10</td>\n",
       "      <td>0.707029</td>\n",
       "      <td>2779.958546</td>\n",
       "    </tr>\n",
       "    <tr>\n",
       "      <th>min</th>\n",
       "      <td>3.000000</td>\n",
       "      <td>5.000000</td>\n",
       "      <td>8.340000e+02</td>\n",
       "      <td>-10.000000</td>\n",
       "      <td>0.000000</td>\n",
       "    </tr>\n",
       "    <tr>\n",
       "      <th>25%</th>\n",
       "      <td>27.000000</td>\n",
       "      <td>49390.000000</td>\n",
       "      <td>3.400004e+09</td>\n",
       "      <td>1.000000</td>\n",
       "      <td>1404.000000</td>\n",
       "    </tr>\n",
       "    <tr>\n",
       "      <th>50%</th>\n",
       "      <td>39.000000</td>\n",
       "      <td>96781.000000</td>\n",
       "      <td>7.056082e+09</td>\n",
       "      <td>1.000000</td>\n",
       "      <td>3352.000000</td>\n",
       "    </tr>\n",
       "    <tr>\n",
       "      <th>75%</th>\n",
       "      <td>40.000000</td>\n",
       "      <td>143930.000000</td>\n",
       "      <td>3.013201e+10</td>\n",
       "      <td>1.000000</td>\n",
       "      <td>5501.000000</td>\n",
       "    </tr>\n",
       "    <tr>\n",
       "      <th>max</th>\n",
       "      <td>999.000000</td>\n",
       "      <td>191347.000000</td>\n",
       "      <td>9.789707e+11</td>\n",
       "      <td>71.000000</td>\n",
       "      <td>9998.000000</td>\n",
       "    </tr>\n",
       "  </tbody>\n",
       "</table>\n",
       "</div>"
      ],
      "text/plain": [
       "            TripType    VisitNumber           Upc      ScanCount  \\\n",
       "count  453411.000000  453411.000000  4.505590e+05  453411.000000   \n",
       "mean       58.027039   95909.846115  3.075243e+10       1.108584   \n",
       "std       155.973370   55399.801147  9.163940e+10       0.707029   \n",
       "min         3.000000       5.000000  8.340000e+02     -10.000000   \n",
       "25%        27.000000   49390.000000  3.400004e+09       1.000000   \n",
       "50%        39.000000   96781.000000  7.056082e+09       1.000000   \n",
       "75%        40.000000  143930.000000  3.013201e+10       1.000000   \n",
       "max       999.000000  191347.000000  9.789707e+11      71.000000   \n",
       "\n",
       "       FinelineNumber  \n",
       "count   450559.000000  \n",
       "mean      3727.366554  \n",
       "std       2779.958546  \n",
       "min          0.000000  \n",
       "25%       1404.000000  \n",
       "50%       3352.000000  \n",
       "75%       5501.000000  \n",
       "max       9998.000000  "
      ]
     },
     "execution_count": 4,
     "metadata": {},
     "output_type": "execute_result"
    }
   ],
   "source": [
    "original_df.describe()"
   ]
  },
  {
   "cell_type": "code",
   "execution_count": 5,
   "metadata": {
    "colab": {
     "base_uri": "https://localhost:8080/",
     "height": 200
    },
    "colab_type": "code",
    "executionInfo": {
     "elapsed": 3042,
     "status": "ok",
     "timestamp": 1598827240369,
     "user": {
      "displayName": "Leonardo Palacios",
      "photoUrl": "https://lh3.googleusercontent.com/a-/AOh14GhsVF6hZqKtVeeOYw6ScOA5hJYPh1n87cD4VKkRMg=s64",
      "userId": "01928733366017714942"
     },
     "user_tz": 180
    },
    "id": "4RShS36zooWn",
    "outputId": "212478f9-e157-484b-a3d4-cdeb1d78248a"
   },
   "outputs": [
    {
     "data": {
      "text/html": [
       "<div>\n",
       "<style scoped>\n",
       "    .dataframe tbody tr th:only-of-type {\n",
       "        vertical-align: middle;\n",
       "    }\n",
       "\n",
       "    .dataframe tbody tr th {\n",
       "        vertical-align: top;\n",
       "    }\n",
       "\n",
       "    .dataframe thead th {\n",
       "        text-align: right;\n",
       "    }\n",
       "</style>\n",
       "<table border=\"1\" class=\"dataframe\">\n",
       "  <thead>\n",
       "    <tr style=\"text-align: right;\">\n",
       "      <th></th>\n",
       "      <th>TripType</th>\n",
       "      <th>VisitNumber</th>\n",
       "      <th>Weekday</th>\n",
       "      <th>Upc</th>\n",
       "      <th>ScanCount</th>\n",
       "      <th>DepartmentDescription</th>\n",
       "      <th>FinelineNumber</th>\n",
       "    </tr>\n",
       "  </thead>\n",
       "  <tbody>\n",
       "    <tr>\n",
       "      <th>0</th>\n",
       "      <td>999</td>\n",
       "      <td>5</td>\n",
       "      <td>Friday</td>\n",
       "      <td>68113152929.00000</td>\n",
       "      <td>-1</td>\n",
       "      <td>FINANCIAL SERVICES</td>\n",
       "      <td>1000.00000</td>\n",
       "    </tr>\n",
       "    <tr>\n",
       "      <th>1</th>\n",
       "      <td>8</td>\n",
       "      <td>9</td>\n",
       "      <td>Friday</td>\n",
       "      <td>1070080727.00000</td>\n",
       "      <td>1</td>\n",
       "      <td>IMPULSE MERCHANDISE</td>\n",
       "      <td>115.00000</td>\n",
       "    </tr>\n",
       "    <tr>\n",
       "      <th>2</th>\n",
       "      <td>8</td>\n",
       "      <td>9</td>\n",
       "      <td>Friday</td>\n",
       "      <td>3107.00000</td>\n",
       "      <td>1</td>\n",
       "      <td>PRODUCE</td>\n",
       "      <td>103.00000</td>\n",
       "    </tr>\n",
       "    <tr>\n",
       "      <th>3</th>\n",
       "      <td>8</td>\n",
       "      <td>9</td>\n",
       "      <td>Friday</td>\n",
       "      <td>4011.00000</td>\n",
       "      <td>1</td>\n",
       "      <td>PRODUCE</td>\n",
       "      <td>5501.00000</td>\n",
       "    </tr>\n",
       "    <tr>\n",
       "      <th>4</th>\n",
       "      <td>8</td>\n",
       "      <td>10</td>\n",
       "      <td>Friday</td>\n",
       "      <td>6414410235.00000</td>\n",
       "      <td>1</td>\n",
       "      <td>DSD GROCERY</td>\n",
       "      <td>2008.00000</td>\n",
       "    </tr>\n",
       "  </tbody>\n",
       "</table>\n",
       "</div>"
      ],
      "text/plain": [
       "   TripType  VisitNumber Weekday               Upc  ScanCount  \\\n",
       "0       999            5  Friday 68113152929.00000         -1   \n",
       "1         8            9  Friday  1070080727.00000          1   \n",
       "2         8            9  Friday        3107.00000          1   \n",
       "3         8            9  Friday        4011.00000          1   \n",
       "4         8           10  Friday  6414410235.00000          1   \n",
       "\n",
       "  DepartmentDescription  FinelineNumber  \n",
       "0    FINANCIAL SERVICES      1000.00000  \n",
       "1   IMPULSE MERCHANDISE       115.00000  \n",
       "2               PRODUCE       103.00000  \n",
       "3               PRODUCE      5501.00000  \n",
       "4           DSD GROCERY      2008.00000  "
      ]
     },
     "execution_count": 5,
     "metadata": {},
     "output_type": "execute_result"
    }
   ],
   "source": [
    "pd.options.display.float_format = '{:.5f}'.format\n",
    "original_df.head()"
   ]
  },
  {
   "cell_type": "markdown",
   "metadata": {
    "colab_type": "text",
    "id": "gmOkDdvpooWz"
   },
   "source": [
    "Looking into the columns values..."
   ]
  },
  {
   "cell_type": "code",
   "execution_count": 6,
   "metadata": {
    "colab": {
     "base_uri": "https://localhost:8080/",
     "height": 35
    },
    "colab_type": "code",
    "executionInfo": {
     "elapsed": 3032,
     "status": "ok",
     "timestamp": 1598827240370,
     "user": {
      "displayName": "Leonardo Palacios",
      "photoUrl": "https://lh3.googleusercontent.com/a-/AOh14GhsVF6hZqKtVeeOYw6ScOA5hJYPh1n87cD4VKkRMg=s64",
      "userId": "01928733366017714942"
     },
     "user_tz": 180
    },
    "id": "2KhgbTFXooW1",
    "outputId": "cdfa930e-9c8c-442e-f2e3-b180910842db"
   },
   "outputs": [
    {
     "data": {
      "text/plain": [
       "{'Friday', 'Monday', 'Saturday', 'Sunday', 'Thursday', 'Tuesday', 'Wednesday'}"
      ]
     },
     "execution_count": 6,
     "metadata": {},
     "output_type": "execute_result"
    }
   ],
   "source": [
    "set(original_df.Weekday)"
   ]
  },
  {
   "cell_type": "code",
   "execution_count": 7,
   "metadata": {
    "colab": {
     "base_uri": "https://localhost:8080/",
     "height": 1000
    },
    "colab_type": "code",
    "executionInfo": {
     "elapsed": 3021,
     "status": "ok",
     "timestamp": 1598827240371,
     "user": {
      "displayName": "Leonardo Palacios",
      "photoUrl": "https://lh3.googleusercontent.com/a-/AOh14GhsVF6hZqKtVeeOYw6ScOA5hJYPh1n87cD4VKkRMg=s64",
      "userId": "01928733366017714942"
     },
     "user_tz": 180
    },
    "id": "fnlfw1S6ooXA",
    "outputId": "e658c4fc-8679-45a1-cffa-55ba1362dc05",
    "scrolled": true
   },
   "outputs": [
    {
     "data": {
      "text/plain": [
       "{'1-HR PHOTO',\n",
       " 'ACCESSORIES',\n",
       " 'AUTOMOTIVE',\n",
       " 'BAKERY',\n",
       " 'BATH AND SHOWER',\n",
       " 'BEAUTY',\n",
       " 'BEDDING',\n",
       " 'BOOKS AND MAGAZINES',\n",
       " 'BOYS WEAR',\n",
       " 'BRAS & SHAPEWEAR',\n",
       " 'CAMERAS AND SUPPLIES',\n",
       " 'CANDY, TOBACCO, COOKIES',\n",
       " 'CELEBRATION',\n",
       " 'COMM BREAD',\n",
       " 'CONCEPT STORES',\n",
       " 'COOK AND DINE',\n",
       " 'DAIRY',\n",
       " 'DSD GROCERY',\n",
       " 'ELECTRONICS',\n",
       " 'FABRICS AND CRAFTS',\n",
       " 'FINANCIAL SERVICES',\n",
       " 'FROZEN FOODS',\n",
       " 'FURNITURE',\n",
       " 'GIRLS WEAR, 4-6X  AND 7-14',\n",
       " 'GROCERY DRY GOODS',\n",
       " 'HARDWARE',\n",
       " 'HEALTH AND BEAUTY AIDS',\n",
       " 'HOME DECOR',\n",
       " 'HOME MANAGEMENT',\n",
       " 'HORTICULTURE AND ACCESS',\n",
       " 'HOUSEHOLD CHEMICALS/SUPP',\n",
       " 'HOUSEHOLD PAPER GOODS',\n",
       " 'IMPULSE MERCHANDISE',\n",
       " 'INFANT APPAREL',\n",
       " 'INFANT CONSUMABLE HARDLINES',\n",
       " 'JEWELRY AND SUNGLASSES',\n",
       " 'LADIES SOCKS',\n",
       " 'LADIESWEAR',\n",
       " 'LARGE HOUSEHOLD GOODS',\n",
       " 'LAWN AND GARDEN',\n",
       " 'LIQUOR,WINE,BEER',\n",
       " 'MEAT - FRESH & FROZEN',\n",
       " 'MEDIA AND GAMING',\n",
       " 'MENS WEAR',\n",
       " 'MENSWEAR',\n",
       " 'OFFICE SUPPLIES',\n",
       " 'OPTICAL - FRAMES',\n",
       " 'OPTICAL - LENSES',\n",
       " 'OTHER DEPARTMENTS',\n",
       " 'PAINT AND ACCESSORIES',\n",
       " 'PERSONAL CARE',\n",
       " 'PETS AND SUPPLIES',\n",
       " 'PHARMACY OTC',\n",
       " 'PHARMACY RX',\n",
       " 'PLAYERS AND ELECTRONICS',\n",
       " 'PLUS AND MATERNITY',\n",
       " 'PRE PACKED DELI',\n",
       " 'PRODUCE',\n",
       " 'SEAFOOD',\n",
       " 'SEASONAL',\n",
       " 'SERVICE DELI',\n",
       " 'SHEER HOSIERY',\n",
       " 'SHOES',\n",
       " 'SLEEPWEAR/FOUNDATIONS',\n",
       " 'SPORTING GOODS',\n",
       " 'SWIMWEAR/OUTERWEAR',\n",
       " 'TOYS',\n",
       " 'WIRELESS',\n",
       " nan}"
      ]
     },
     "execution_count": 7,
     "metadata": {},
     "output_type": "execute_result"
    }
   ],
   "source": [
    "set(original_df.DepartmentDescription)"
   ]
  },
  {
   "cell_type": "markdown",
   "metadata": {
    "colab_type": "text",
    "id": "96sLSc-5ooXK"
   },
   "source": [
    "There are `nan`s in the column, let us find them..."
   ]
  },
  {
   "cell_type": "code",
   "execution_count": 8,
   "metadata": {
    "colab": {
     "base_uri": "https://localhost:8080/",
     "height": 411
    },
    "colab_type": "code",
    "executionInfo": {
     "elapsed": 3007,
     "status": "ok",
     "timestamp": 1598827240371,
     "user": {
      "displayName": "Leonardo Palacios",
      "photoUrl": "https://lh3.googleusercontent.com/a-/AOh14GhsVF6hZqKtVeeOYw6ScOA5hJYPh1n87cD4VKkRMg=s64",
      "userId": "01928733366017714942"
     },
     "user_tz": 180
    },
    "id": "LOfvRWulooXM",
    "outputId": "6ffd7bf2-acf1-4012-c253-78e3688d7053"
   },
   "outputs": [
    {
     "data": {
      "text/html": [
       "<div>\n",
       "<style scoped>\n",
       "    .dataframe tbody tr th:only-of-type {\n",
       "        vertical-align: middle;\n",
       "    }\n",
       "\n",
       "    .dataframe tbody tr th {\n",
       "        vertical-align: top;\n",
       "    }\n",
       "\n",
       "    .dataframe thead th {\n",
       "        text-align: right;\n",
       "    }\n",
       "</style>\n",
       "<table border=\"1\" class=\"dataframe\">\n",
       "  <thead>\n",
       "    <tr style=\"text-align: right;\">\n",
       "      <th></th>\n",
       "      <th>TripType</th>\n",
       "      <th>VisitNumber</th>\n",
       "      <th>Weekday</th>\n",
       "      <th>Upc</th>\n",
       "      <th>ScanCount</th>\n",
       "      <th>DepartmentDescription</th>\n",
       "      <th>FinelineNumber</th>\n",
       "    </tr>\n",
       "  </thead>\n",
       "  <tbody>\n",
       "    <tr>\n",
       "      <th>739</th>\n",
       "      <td>999</td>\n",
       "      <td>484</td>\n",
       "      <td>Friday</td>\n",
       "      <td>nan</td>\n",
       "      <td>-2</td>\n",
       "      <td>NaN</td>\n",
       "      <td>nan</td>\n",
       "    </tr>\n",
       "    <tr>\n",
       "      <th>740</th>\n",
       "      <td>999</td>\n",
       "      <td>484</td>\n",
       "      <td>Friday</td>\n",
       "      <td>nan</td>\n",
       "      <td>-2</td>\n",
       "      <td>NaN</td>\n",
       "      <td>nan</td>\n",
       "    </tr>\n",
       "    <tr>\n",
       "      <th>1292</th>\n",
       "      <td>32</td>\n",
       "      <td>845</td>\n",
       "      <td>Friday</td>\n",
       "      <td>nan</td>\n",
       "      <td>1</td>\n",
       "      <td>NaN</td>\n",
       "      <td>nan</td>\n",
       "    </tr>\n",
       "    <tr>\n",
       "      <th>1293</th>\n",
       "      <td>32</td>\n",
       "      <td>845</td>\n",
       "      <td>Friday</td>\n",
       "      <td>nan</td>\n",
       "      <td>1</td>\n",
       "      <td>NaN</td>\n",
       "      <td>nan</td>\n",
       "    </tr>\n",
       "    <tr>\n",
       "      <th>1577</th>\n",
       "      <td>40</td>\n",
       "      <td>1004</td>\n",
       "      <td>Friday</td>\n",
       "      <td>nan</td>\n",
       "      <td>1</td>\n",
       "      <td>NaN</td>\n",
       "      <td>nan</td>\n",
       "    </tr>\n",
       "    <tr>\n",
       "      <th>...</th>\n",
       "      <td>...</td>\n",
       "      <td>...</td>\n",
       "      <td>...</td>\n",
       "      <td>...</td>\n",
       "      <td>...</td>\n",
       "      <td>...</td>\n",
       "      <td>...</td>\n",
       "    </tr>\n",
       "    <tr>\n",
       "      <th>449840</th>\n",
       "      <td>40</td>\n",
       "      <td>190133</td>\n",
       "      <td>Sunday</td>\n",
       "      <td>nan</td>\n",
       "      <td>1</td>\n",
       "      <td>NaN</td>\n",
       "      <td>nan</td>\n",
       "    </tr>\n",
       "    <tr>\n",
       "      <th>450036</th>\n",
       "      <td>999</td>\n",
       "      <td>190182</td>\n",
       "      <td>Sunday</td>\n",
       "      <td>nan</td>\n",
       "      <td>-1</td>\n",
       "      <td>NaN</td>\n",
       "      <td>nan</td>\n",
       "    </tr>\n",
       "    <tr>\n",
       "      <th>450163</th>\n",
       "      <td>40</td>\n",
       "      <td>190230</td>\n",
       "      <td>Sunday</td>\n",
       "      <td>nan</td>\n",
       "      <td>1</td>\n",
       "      <td>NaN</td>\n",
       "      <td>nan</td>\n",
       "    </tr>\n",
       "    <tr>\n",
       "      <th>450361</th>\n",
       "      <td>39</td>\n",
       "      <td>190309</td>\n",
       "      <td>Sunday</td>\n",
       "      <td>nan</td>\n",
       "      <td>1</td>\n",
       "      <td>NaN</td>\n",
       "      <td>nan</td>\n",
       "    </tr>\n",
       "    <tr>\n",
       "      <th>450595</th>\n",
       "      <td>41</td>\n",
       "      <td>190408</td>\n",
       "      <td>Sunday</td>\n",
       "      <td>nan</td>\n",
       "      <td>1</td>\n",
       "      <td>NaN</td>\n",
       "      <td>nan</td>\n",
       "    </tr>\n",
       "  </tbody>\n",
       "</table>\n",
       "<p>972 rows × 7 columns</p>\n",
       "</div>"
      ],
      "text/plain": [
       "        TripType  VisitNumber Weekday  Upc  ScanCount DepartmentDescription  \\\n",
       "739          999          484  Friday  nan         -2                   NaN   \n",
       "740          999          484  Friday  nan         -2                   NaN   \n",
       "1292          32          845  Friday  nan          1                   NaN   \n",
       "1293          32          845  Friday  nan          1                   NaN   \n",
       "1577          40         1004  Friday  nan          1                   NaN   \n",
       "...          ...          ...     ...  ...        ...                   ...   \n",
       "449840        40       190133  Sunday  nan          1                   NaN   \n",
       "450036       999       190182  Sunday  nan         -1                   NaN   \n",
       "450163        40       190230  Sunday  nan          1                   NaN   \n",
       "450361        39       190309  Sunday  nan          1                   NaN   \n",
       "450595        41       190408  Sunday  nan          1                   NaN   \n",
       "\n",
       "        FinelineNumber  \n",
       "739                nan  \n",
       "740                nan  \n",
       "1292               nan  \n",
       "1293               nan  \n",
       "1577               nan  \n",
       "...                ...  \n",
       "449840             nan  \n",
       "450036             nan  \n",
       "450163             nan  \n",
       "450361             nan  \n",
       "450595             nan  \n",
       "\n",
       "[972 rows x 7 columns]"
      ]
     },
     "execution_count": 8,
     "metadata": {},
     "output_type": "execute_result"
    }
   ],
   "source": [
    "original_df[original_df.DepartmentDescription.isna()]"
   ]
  },
  {
   "cell_type": "markdown",
   "metadata": {
    "colab_type": "text",
    "hideCode": true,
    "id": "hB57E2PpooXS"
   },
   "source": [
    "When the description is NaN, then the Upc and FinelineNumber are both NaN?"
   ]
  },
  {
   "cell_type": "code",
   "execution_count": 9,
   "metadata": {
    "colab": {
     "base_uri": "https://localhost:8080/",
     "height": 35
    },
    "colab_type": "code",
    "executionInfo": {
     "elapsed": 3295,
     "status": "ok",
     "timestamp": 1598827240671,
     "user": {
      "displayName": "Leonardo Palacios",
      "photoUrl": "https://lh3.googleusercontent.com/a-/AOh14GhsVF6hZqKtVeeOYw6ScOA5hJYPh1n87cD4VKkRMg=s64",
      "userId": "01928733366017714942"
     },
     "user_tz": 180
    },
    "id": "zhOl4ZHKooXU",
    "outputId": "d82c5fe4-fc2b-4f54-d2ce-f28f662552b5"
   },
   "outputs": [
    {
     "data": {
      "text/plain": [
       "(972, 972)"
      ]
     },
     "execution_count": 9,
     "metadata": {},
     "output_type": "execute_result"
    }
   ],
   "source": [
    "(original_df.DepartmentDescription.isna().sum(),\n",
    " (original_df.DepartmentDescription.isna() & original_df.Upc.isna() & original_df.FinelineNumber.isna()).sum())"
   ]
  },
  {
   "cell_type": "code",
   "execution_count": 10,
   "metadata": {
    "colab": {
     "base_uri": "https://localhost:8080/",
     "height": 411
    },
    "colab_type": "code",
    "executionInfo": {
     "elapsed": 3283,
     "status": "ok",
     "timestamp": 1598827240671,
     "user": {
      "displayName": "Leonardo Palacios",
      "photoUrl": "https://lh3.googleusercontent.com/a-/AOh14GhsVF6hZqKtVeeOYw6ScOA5hJYPh1n87cD4VKkRMg=s64",
      "userId": "01928733366017714942"
     },
     "user_tz": 180
    },
    "id": "Wu6n_g1yooXZ",
    "outputId": "5da5410b-c4b8-48b8-8ce2-297a4f353ece"
   },
   "outputs": [
    {
     "data": {
      "text/html": [
       "<div>\n",
       "<style scoped>\n",
       "    .dataframe tbody tr th:only-of-type {\n",
       "        vertical-align: middle;\n",
       "    }\n",
       "\n",
       "    .dataframe tbody tr th {\n",
       "        vertical-align: top;\n",
       "    }\n",
       "\n",
       "    .dataframe thead th {\n",
       "        text-align: right;\n",
       "    }\n",
       "</style>\n",
       "<table border=\"1\" class=\"dataframe\">\n",
       "  <thead>\n",
       "    <tr style=\"text-align: right;\">\n",
       "      <th></th>\n",
       "      <th>TripType</th>\n",
       "      <th>VisitNumber</th>\n",
       "      <th>Weekday</th>\n",
       "      <th>Upc</th>\n",
       "      <th>ScanCount</th>\n",
       "      <th>DepartmentDescription</th>\n",
       "      <th>FinelineNumber</th>\n",
       "    </tr>\n",
       "  </thead>\n",
       "  <tbody>\n",
       "    <tr>\n",
       "      <th>739</th>\n",
       "      <td>999</td>\n",
       "      <td>484</td>\n",
       "      <td>Friday</td>\n",
       "      <td>nan</td>\n",
       "      <td>-2</td>\n",
       "      <td>NaN</td>\n",
       "      <td>nan</td>\n",
       "    </tr>\n",
       "    <tr>\n",
       "      <th>740</th>\n",
       "      <td>999</td>\n",
       "      <td>484</td>\n",
       "      <td>Friday</td>\n",
       "      <td>nan</td>\n",
       "      <td>-2</td>\n",
       "      <td>NaN</td>\n",
       "      <td>nan</td>\n",
       "    </tr>\n",
       "    <tr>\n",
       "      <th>900</th>\n",
       "      <td>5</td>\n",
       "      <td>585</td>\n",
       "      <td>Friday</td>\n",
       "      <td>nan</td>\n",
       "      <td>1</td>\n",
       "      <td>PHARMACY RX</td>\n",
       "      <td>nan</td>\n",
       "    </tr>\n",
       "    <tr>\n",
       "      <th>944</th>\n",
       "      <td>5</td>\n",
       "      <td>619</td>\n",
       "      <td>Friday</td>\n",
       "      <td>nan</td>\n",
       "      <td>1</td>\n",
       "      <td>PHARMACY RX</td>\n",
       "      <td>nan</td>\n",
       "    </tr>\n",
       "    <tr>\n",
       "      <th>945</th>\n",
       "      <td>5</td>\n",
       "      <td>619</td>\n",
       "      <td>Friday</td>\n",
       "      <td>nan</td>\n",
       "      <td>1</td>\n",
       "      <td>PHARMACY RX</td>\n",
       "      <td>nan</td>\n",
       "    </tr>\n",
       "    <tr>\n",
       "      <th>...</th>\n",
       "      <td>...</td>\n",
       "      <td>...</td>\n",
       "      <td>...</td>\n",
       "      <td>...</td>\n",
       "      <td>...</td>\n",
       "      <td>...</td>\n",
       "      <td>...</td>\n",
       "    </tr>\n",
       "    <tr>\n",
       "      <th>449840</th>\n",
       "      <td>40</td>\n",
       "      <td>190133</td>\n",
       "      <td>Sunday</td>\n",
       "      <td>nan</td>\n",
       "      <td>1</td>\n",
       "      <td>NaN</td>\n",
       "      <td>nan</td>\n",
       "    </tr>\n",
       "    <tr>\n",
       "      <th>450036</th>\n",
       "      <td>999</td>\n",
       "      <td>190182</td>\n",
       "      <td>Sunday</td>\n",
       "      <td>nan</td>\n",
       "      <td>-1</td>\n",
       "      <td>NaN</td>\n",
       "      <td>nan</td>\n",
       "    </tr>\n",
       "    <tr>\n",
       "      <th>450163</th>\n",
       "      <td>40</td>\n",
       "      <td>190230</td>\n",
       "      <td>Sunday</td>\n",
       "      <td>nan</td>\n",
       "      <td>1</td>\n",
       "      <td>NaN</td>\n",
       "      <td>nan</td>\n",
       "    </tr>\n",
       "    <tr>\n",
       "      <th>450361</th>\n",
       "      <td>39</td>\n",
       "      <td>190309</td>\n",
       "      <td>Sunday</td>\n",
       "      <td>nan</td>\n",
       "      <td>1</td>\n",
       "      <td>NaN</td>\n",
       "      <td>nan</td>\n",
       "    </tr>\n",
       "    <tr>\n",
       "      <th>450595</th>\n",
       "      <td>41</td>\n",
       "      <td>190408</td>\n",
       "      <td>Sunday</td>\n",
       "      <td>nan</td>\n",
       "      <td>1</td>\n",
       "      <td>NaN</td>\n",
       "      <td>nan</td>\n",
       "    </tr>\n",
       "  </tbody>\n",
       "</table>\n",
       "<p>2852 rows × 7 columns</p>\n",
       "</div>"
      ],
      "text/plain": [
       "        TripType  VisitNumber Weekday  Upc  ScanCount DepartmentDescription  \\\n",
       "739          999          484  Friday  nan         -2                   NaN   \n",
       "740          999          484  Friday  nan         -2                   NaN   \n",
       "900            5          585  Friday  nan          1           PHARMACY RX   \n",
       "944            5          619  Friday  nan          1           PHARMACY RX   \n",
       "945            5          619  Friday  nan          1           PHARMACY RX   \n",
       "...          ...          ...     ...  ...        ...                   ...   \n",
       "449840        40       190133  Sunday  nan          1                   NaN   \n",
       "450036       999       190182  Sunday  nan         -1                   NaN   \n",
       "450163        40       190230  Sunday  nan          1                   NaN   \n",
       "450361        39       190309  Sunday  nan          1                   NaN   \n",
       "450595        41       190408  Sunday  nan          1                   NaN   \n",
       "\n",
       "        FinelineNumber  \n",
       "739                nan  \n",
       "740                nan  \n",
       "900                nan  \n",
       "944                nan  \n",
       "945                nan  \n",
       "...                ...  \n",
       "449840             nan  \n",
       "450036             nan  \n",
       "450163             nan  \n",
       "450361             nan  \n",
       "450595             nan  \n",
       "\n",
       "[2852 rows x 7 columns]"
      ]
     },
     "execution_count": 10,
     "metadata": {},
     "output_type": "execute_result"
    }
   ],
   "source": [
    "original_df[original_df.Upc.isna()]"
   ]
  },
  {
   "cell_type": "markdown",
   "metadata": {
    "colab_type": "text",
    "id": "oXl7GRyNooXg"
   },
   "source": [
    "But it may be the case that Upc is NaN but not the description..."
   ]
  },
  {
   "cell_type": "code",
   "execution_count": 11,
   "metadata": {
    "colab": {
     "base_uri": "https://localhost:8080/",
     "height": 35
    },
    "colab_type": "code",
    "executionInfo": {
     "elapsed": 3273,
     "status": "ok",
     "timestamp": 1598827240672,
     "user": {
      "displayName": "Leonardo Palacios",
      "photoUrl": "https://lh3.googleusercontent.com/a-/AOh14GhsVF6hZqKtVeeOYw6ScOA5hJYPh1n87cD4VKkRMg=s64",
      "userId": "01928733366017714942"
     },
     "user_tz": 180
    },
    "id": "IIe887YGooXh",
    "outputId": "6837c074-2b12-4f4e-f715-539bcb648123"
   },
   "outputs": [
    {
     "data": {
      "text/plain": [
       "(2852, 2852, 2852)"
      ]
     },
     "execution_count": 11,
     "metadata": {},
     "output_type": "execute_result"
    }
   ],
   "source": [
    "(original_df.Upc.isna().sum(),\n",
    " original_df.FinelineNumber.isna().sum(),\n",
    " (original_df.FinelineNumber.isna() & original_df.Upc.isna()).sum())"
   ]
  },
  {
   "cell_type": "markdown",
   "metadata": {
    "colab_type": "text",
    "id": "g021QKaDooXn"
   },
   "source": [
    "Upc and FinelineNumber are both NaN at the same time"
   ]
  },
  {
   "cell_type": "markdown",
   "metadata": {
    "colab_type": "text",
    "id": "5PzXdXl8ooXo"
   },
   "source": [
    "Our last step in this analysis is to see how balanced is the data..."
   ]
  },
  {
   "cell_type": "code",
   "execution_count": 12,
   "metadata": {
    "colab": {},
    "colab_type": "code",
    "executionInfo": {
     "elapsed": 3264,
     "status": "ok",
     "timestamp": 1598827240672,
     "user": {
      "displayName": "Leonardo Palacios",
      "photoUrl": "https://lh3.googleusercontent.com/a-/AOh14GhsVF6hZqKtVeeOYw6ScOA5hJYPh1n87cD4VKkRMg=s64",
      "userId": "01928733366017714942"
     },
     "user_tz": 180
    },
    "id": "Fo2ZuECJooXp"
   },
   "outputs": [],
   "source": [
    "bins = set(original_df.TripType)"
   ]
  },
  {
   "cell_type": "code",
   "execution_count": 13,
   "metadata": {
    "colab": {
     "base_uri": "https://localhost:8080/",
     "height": 441
    },
    "colab_type": "code",
    "executionInfo": {
     "elapsed": 3256,
     "status": "ok",
     "timestamp": 1598827240673,
     "user": {
      "displayName": "Leonardo Palacios",
      "photoUrl": "https://lh3.googleusercontent.com/a-/AOh14GhsVF6hZqKtVeeOYw6ScOA5hJYPh1n87cD4VKkRMg=s64",
      "userId": "01928733366017714942"
     },
     "user_tz": 180
    },
    "id": "hwRQN9uYp5nc",
    "outputId": "e0a34969-8745-4c1f-b47c-db541d1840df"
   },
   "outputs": [
    {
     "data": {
      "text/html": [
       "<div>\n",
       "<style scoped>\n",
       "    .dataframe tbody tr th:only-of-type {\n",
       "        vertical-align: middle;\n",
       "    }\n",
       "\n",
       "    .dataframe tbody tr th {\n",
       "        vertical-align: top;\n",
       "    }\n",
       "\n",
       "    .dataframe thead th {\n",
       "        text-align: right;\n",
       "    }\n",
       "</style>\n",
       "<table border=\"1\" class=\"dataframe\">\n",
       "  <thead>\n",
       "    <tr style=\"text-align: right;\">\n",
       "      <th></th>\n",
       "      <th>TripType</th>\n",
       "      <th>Upc</th>\n",
       "      <th>ScanCount</th>\n",
       "      <th>FinelineNumber</th>\n",
       "    </tr>\n",
       "    <tr>\n",
       "      <th>VisitNumber</th>\n",
       "      <th></th>\n",
       "      <th></th>\n",
       "      <th></th>\n",
       "      <th></th>\n",
       "    </tr>\n",
       "  </thead>\n",
       "  <tbody>\n",
       "    <tr>\n",
       "      <th>5</th>\n",
       "      <td>999.00000</td>\n",
       "      <td>68113152929.00000</td>\n",
       "      <td>-1.00000</td>\n",
       "      <td>1000.00000</td>\n",
       "    </tr>\n",
       "    <tr>\n",
       "      <th>9</th>\n",
       "      <td>8.00000</td>\n",
       "      <td>356695948.33333</td>\n",
       "      <td>1.00000</td>\n",
       "      <td>1906.33333</td>\n",
       "    </tr>\n",
       "    <tr>\n",
       "      <th>10</th>\n",
       "      <td>8.00000</td>\n",
       "      <td>5669755035.66667</td>\n",
       "      <td>1.00000</td>\n",
       "      <td>3357.66667</td>\n",
       "    </tr>\n",
       "    <tr>\n",
       "      <th>11</th>\n",
       "      <td>35.00000</td>\n",
       "      <td>5684737409.50000</td>\n",
       "      <td>1.00000</td>\n",
       "      <td>1874.75000</td>\n",
       "    </tr>\n",
       "    <tr>\n",
       "      <th>12</th>\n",
       "      <td>41.00000</td>\n",
       "      <td>26173895034.85714</td>\n",
       "      <td>1.00000</td>\n",
       "      <td>2234.14286</td>\n",
       "    </tr>\n",
       "    <tr>\n",
       "      <th>...</th>\n",
       "      <td>...</td>\n",
       "      <td>...</td>\n",
       "      <td>...</td>\n",
       "      <td>...</td>\n",
       "    </tr>\n",
       "    <tr>\n",
       "      <th>191329</th>\n",
       "      <td>24.00000</td>\n",
       "      <td>29153278779.30000</td>\n",
       "      <td>1.00000</td>\n",
       "      <td>3765.55000</td>\n",
       "    </tr>\n",
       "    <tr>\n",
       "      <th>191337</th>\n",
       "      <td>38.00000</td>\n",
       "      <td>9497030785.10714</td>\n",
       "      <td>0.96429</td>\n",
       "      <td>4068.14286</td>\n",
       "    </tr>\n",
       "    <tr>\n",
       "      <th>191343</th>\n",
       "      <td>25.00000</td>\n",
       "      <td>64517501167.14286</td>\n",
       "      <td>1.28571</td>\n",
       "      <td>4855.85714</td>\n",
       "    </tr>\n",
       "    <tr>\n",
       "      <th>191344</th>\n",
       "      <td>22.00000</td>\n",
       "      <td>32291444699.40000</td>\n",
       "      <td>1.00000</td>\n",
       "      <td>3025.40000</td>\n",
       "    </tr>\n",
       "    <tr>\n",
       "      <th>191347</th>\n",
       "      <td>8.00000</td>\n",
       "      <td>3995033659.50000</td>\n",
       "      <td>1.00000</td>\n",
       "      <td>2556.00000</td>\n",
       "    </tr>\n",
       "  </tbody>\n",
       "</table>\n",
       "<p>67029 rows × 4 columns</p>\n",
       "</div>"
      ],
      "text/plain": [
       "             TripType               Upc  ScanCount  FinelineNumber\n",
       "VisitNumber                                                       \n",
       "5           999.00000 68113152929.00000   -1.00000      1000.00000\n",
       "9             8.00000   356695948.33333    1.00000      1906.33333\n",
       "10            8.00000  5669755035.66667    1.00000      3357.66667\n",
       "11           35.00000  5684737409.50000    1.00000      1874.75000\n",
       "12           41.00000 26173895034.85714    1.00000      2234.14286\n",
       "...               ...               ...        ...             ...\n",
       "191329       24.00000 29153278779.30000    1.00000      3765.55000\n",
       "191337       38.00000  9497030785.10714    0.96429      4068.14286\n",
       "191343       25.00000 64517501167.14286    1.28571      4855.85714\n",
       "191344       22.00000 32291444699.40000    1.00000      3025.40000\n",
       "191347        8.00000  3995033659.50000    1.00000      2556.00000\n",
       "\n",
       "[67029 rows x 4 columns]"
      ]
     },
     "execution_count": 13,
     "metadata": {},
     "output_type": "execute_result"
    }
   ],
   "source": [
    "original_df.groupby(\"VisitNumber\").mean()"
   ]
  },
  {
   "cell_type": "code",
   "execution_count": 14,
   "metadata": {
    "colab": {
     "base_uri": "https://localhost:8080/",
     "height": 292
    },
    "colab_type": "code",
    "executionInfo": {
     "elapsed": 3572,
     "status": "ok",
     "timestamp": 1598827241001,
     "user": {
      "displayName": "Leonardo Palacios",
      "photoUrl": "https://lh3.googleusercontent.com/a-/AOh14GhsVF6hZqKtVeeOYw6ScOA5hJYPh1n87cD4VKkRMg=s64",
      "userId": "01928733366017714942"
     },
     "user_tz": 180
    },
    "id": "Jmj_QF-NooXu",
    "outputId": "d4961161-4b5c-41e5-c394-72689b27fcba"
   },
   "outputs": [
    {
     "data": {
      "text/plain": [
       "<AxesSubplot:>"
      ]
     },
     "execution_count": 14,
     "metadata": {},
     "output_type": "execute_result"
    },
    {
     "data": {
      "image/png": "[encoded data removed]",
      "text/plain": [
       "<Figure size 432x288 with 1 Axes>"
      ]
     },
     "metadata": {
      "needs_background": "light"
     },
     "output_type": "display_data"
    }
   ],
   "source": [
    "# to count the TripType values, we have to group the visits by VisitNumber\n",
    "original_df.groupby(\"VisitNumber\").TripType.mean().value_counts().plot(kind='bar')"
   ]
  },
  {
   "cell_type": "markdown",
   "metadata": {
    "colab_type": "text",
    "id": "FTl4T-zkooXz"
   },
   "source": [
    "**Unbalanced!!!**"
   ]
  },
  {
   "cell_type": "markdown",
   "metadata": {
    "colab_type": "text",
    "id": "ToEnGMaoooX0"
   },
   "source": [
    "Create a function to load the datasets.\n",
    "\n",
    "**Some important decisions made here**:\n",
    "1. We will use one hot encoding for Weekday and DepartmentDescription. All transformations are applied to the training and testing datasets...\n",
    "1. We are handling NaN's as another category. This may not be the best approach.\n",
    "1. We may have multiple records for one single visit and the goal is to classify all those records the exact same way. Therefore, we will prepare the data in a way that all the information for a visit is in the same record.\n",
    "1. Based on the last bullet, we will count the DepartmentDescription for all items acquired in the same visit.\n",
    "1. We drop the Upc and FinelineNumber to simplify the process. You may use it as they have a lot of information (may be using one-hot encoding for them as well)"
   ]
  },
  {
   "cell_type": "markdown",
   "metadata": {
    "colab_type": "text",
    "id": "jpYG8SFVooX1"
   },
   "source": [
    "The following operations will be performed in a function. Anyway, we present them here so that we can see them in action:\n",
    "\n",
    "First, we drop the columns. We include TripType as we are going to treat it differently:"
   ]
  },
  {
   "cell_type": "code",
   "execution_count": 15,
   "metadata": {
    "colab": {},
    "colab_type": "code",
    "executionInfo": {
     "elapsed": 3563,
     "status": "ok",
     "timestamp": 1598827241002,
     "user": {
      "displayName": "Leonardo Palacios",
      "photoUrl": "https://lh3.googleusercontent.com/a-/AOh14GhsVF6hZqKtVeeOYw6ScOA5hJYPh1n87cD4VKkRMg=s64",
      "userId": "01928733366017714942"
     },
     "user_tz": 180
    },
    "id": "ocmltSK4ooX2"
   },
   "outputs": [],
   "source": [
    "df = original_df.drop([\"Upc\", \"FinelineNumber\", \"TripType\"], axis=1)"
   ]
  },
  {
   "cell_type": "code",
   "execution_count": 16,
   "metadata": {
    "colab": {
     "base_uri": "https://localhost:8080/",
     "height": 411
    },
    "colab_type": "code",
    "executionInfo": {
     "elapsed": 3557,
     "status": "ok",
     "timestamp": 1598827241004,
     "user": {
      "displayName": "Leonardo Palacios",
      "photoUrl": "https://lh3.googleusercontent.com/a-/AOh14GhsVF6hZqKtVeeOYw6ScOA5hJYPh1n87cD4VKkRMg=s64",
      "userId": "01928733366017714942"
     },
     "user_tz": 180
    },
    "id": "14Vi_apuooX8",
    "outputId": "5f017624-55a2-41b5-d7f4-f1252ff1a0ba"
   },
   "outputs": [
    {
     "data": {
      "text/html": [
       "<div>\n",
       "<style scoped>\n",
       "    .dataframe tbody tr th:only-of-type {\n",
       "        vertical-align: middle;\n",
       "    }\n",
       "\n",
       "    .dataframe tbody tr th {\n",
       "        vertical-align: top;\n",
       "    }\n",
       "\n",
       "    .dataframe thead th {\n",
       "        text-align: right;\n",
       "    }\n",
       "</style>\n",
       "<table border=\"1\" class=\"dataframe\">\n",
       "  <thead>\n",
       "    <tr style=\"text-align: right;\">\n",
       "      <th></th>\n",
       "      <th>VisitNumber</th>\n",
       "      <th>Weekday</th>\n",
       "      <th>ScanCount</th>\n",
       "      <th>DepartmentDescription</th>\n",
       "    </tr>\n",
       "  </thead>\n",
       "  <tbody>\n",
       "    <tr>\n",
       "      <th>0</th>\n",
       "      <td>5</td>\n",
       "      <td>Friday</td>\n",
       "      <td>-1</td>\n",
       "      <td>FINANCIAL SERVICES</td>\n",
       "    </tr>\n",
       "    <tr>\n",
       "      <th>1</th>\n",
       "      <td>9</td>\n",
       "      <td>Friday</td>\n",
       "      <td>1</td>\n",
       "      <td>IMPULSE MERCHANDISE</td>\n",
       "    </tr>\n",
       "    <tr>\n",
       "      <th>2</th>\n",
       "      <td>9</td>\n",
       "      <td>Friday</td>\n",
       "      <td>1</td>\n",
       "      <td>PRODUCE</td>\n",
       "    </tr>\n",
       "    <tr>\n",
       "      <th>3</th>\n",
       "      <td>9</td>\n",
       "      <td>Friday</td>\n",
       "      <td>1</td>\n",
       "      <td>PRODUCE</td>\n",
       "    </tr>\n",
       "    <tr>\n",
       "      <th>4</th>\n",
       "      <td>10</td>\n",
       "      <td>Friday</td>\n",
       "      <td>1</td>\n",
       "      <td>DSD GROCERY</td>\n",
       "    </tr>\n",
       "    <tr>\n",
       "      <th>...</th>\n",
       "      <td>...</td>\n",
       "      <td>...</td>\n",
       "      <td>...</td>\n",
       "      <td>...</td>\n",
       "    </tr>\n",
       "    <tr>\n",
       "      <th>453406</th>\n",
       "      <td>191344</td>\n",
       "      <td>Sunday</td>\n",
       "      <td>1</td>\n",
       "      <td>BEAUTY</td>\n",
       "    </tr>\n",
       "    <tr>\n",
       "      <th>453407</th>\n",
       "      <td>191344</td>\n",
       "      <td>Sunday</td>\n",
       "      <td>1</td>\n",
       "      <td>WIRELESS</td>\n",
       "    </tr>\n",
       "    <tr>\n",
       "      <th>453408</th>\n",
       "      <td>191344</td>\n",
       "      <td>Sunday</td>\n",
       "      <td>1</td>\n",
       "      <td>BEAUTY</td>\n",
       "    </tr>\n",
       "    <tr>\n",
       "      <th>453409</th>\n",
       "      <td>191347</td>\n",
       "      <td>Sunday</td>\n",
       "      <td>1</td>\n",
       "      <td>DAIRY</td>\n",
       "    </tr>\n",
       "    <tr>\n",
       "      <th>453410</th>\n",
       "      <td>191347</td>\n",
       "      <td>Sunday</td>\n",
       "      <td>1</td>\n",
       "      <td>GROCERY DRY GOODS</td>\n",
       "    </tr>\n",
       "  </tbody>\n",
       "</table>\n",
       "<p>453411 rows × 4 columns</p>\n",
       "</div>"
      ],
      "text/plain": [
       "        VisitNumber Weekday  ScanCount DepartmentDescription\n",
       "0                 5  Friday         -1    FINANCIAL SERVICES\n",
       "1                 9  Friday          1   IMPULSE MERCHANDISE\n",
       "2                 9  Friday          1               PRODUCE\n",
       "3                 9  Friday          1               PRODUCE\n",
       "4                10  Friday          1           DSD GROCERY\n",
       "...             ...     ...        ...                   ...\n",
       "453406       191344  Sunday          1                BEAUTY\n",
       "453407       191344  Sunday          1              WIRELESS\n",
       "453408       191344  Sunday          1                BEAUTY\n",
       "453409       191347  Sunday          1                 DAIRY\n",
       "453410       191347  Sunday          1     GROCERY DRY GOODS\n",
       "\n",
       "[453411 rows x 4 columns]"
      ]
     },
     "execution_count": 16,
     "metadata": {},
     "output_type": "execute_result"
    }
   ],
   "source": [
    "df"
   ]
  },
  {
   "cell_type": "markdown",
   "metadata": {
    "colab_type": "text",
    "id": "TegblVQnooYC"
   },
   "source": [
    "Now, we create the dummy columns"
   ]
  },
  {
   "cell_type": "code",
   "execution_count": 17,
   "metadata": {
    "colab": {},
    "colab_type": "code",
    "executionInfo": {
     "elapsed": 3862,
     "status": "ok",
     "timestamp": 1598827241318,
     "user": {
      "displayName": "Leonardo Palacios",
      "photoUrl": "https://lh3.googleusercontent.com/a-/AOh14GhsVF6hZqKtVeeOYw6ScOA5hJYPh1n87cD4VKkRMg=s64",
      "userId": "01928733366017714942"
     },
     "user_tz": 180
    },
    "id": "moHoNhxuooYD"
   },
   "outputs": [],
   "source": [
    "df = pd.get_dummies(df, columns=[\"DepartmentDescription\"], dummy_na=True)"
   ]
  },
  {
   "cell_type": "code",
   "execution_count": 18,
   "metadata": {
    "colab": {
     "base_uri": "https://localhost:8080/",
     "height": 448
    },
    "colab_type": "code",
    "executionInfo": {
     "elapsed": 3856,
     "status": "ok",
     "timestamp": 1598827241320,
     "user": {
      "displayName": "Leonardo Palacios",
      "photoUrl": "https://lh3.googleusercontent.com/a-/AOh14GhsVF6hZqKtVeeOYw6ScOA5hJYPh1n87cD4VKkRMg=s64",
      "userId": "01928733366017714942"
     },
     "user_tz": 180
    },
    "id": "EUW8Yws4ooYI",
    "outputId": "ee882088-f85b-45fd-f707-d9fe2055009b"
   },
   "outputs": [
    {
     "data": {
      "text/html": [
       "<div>\n",
       "<style scoped>\n",
       "    .dataframe tbody tr th:only-of-type {\n",
       "        vertical-align: middle;\n",
       "    }\n",
       "\n",
       "    .dataframe tbody tr th {\n",
       "        vertical-align: top;\n",
       "    }\n",
       "\n",
       "    .dataframe thead th {\n",
       "        text-align: right;\n",
       "    }\n",
       "</style>\n",
       "<table border=\"1\" class=\"dataframe\">\n",
       "  <thead>\n",
       "    <tr style=\"text-align: right;\">\n",
       "      <th></th>\n",
       "      <th>VisitNumber</th>\n",
       "      <th>Weekday</th>\n",
       "      <th>ScanCount</th>\n",
       "      <th>DepartmentDescription_1-HR PHOTO</th>\n",
       "      <th>DepartmentDescription_ACCESSORIES</th>\n",
       "      <th>DepartmentDescription_AUTOMOTIVE</th>\n",
       "      <th>DepartmentDescription_BAKERY</th>\n",
       "      <th>DepartmentDescription_BATH AND SHOWER</th>\n",
       "      <th>DepartmentDescription_BEAUTY</th>\n",
       "      <th>DepartmentDescription_BEDDING</th>\n",
       "      <th>...</th>\n",
       "      <th>DepartmentDescription_SEASONAL</th>\n",
       "      <th>DepartmentDescription_SERVICE DELI</th>\n",
       "      <th>DepartmentDescription_SHEER HOSIERY</th>\n",
       "      <th>DepartmentDescription_SHOES</th>\n",
       "      <th>DepartmentDescription_SLEEPWEAR/FOUNDATIONS</th>\n",
       "      <th>DepartmentDescription_SPORTING GOODS</th>\n",
       "      <th>DepartmentDescription_SWIMWEAR/OUTERWEAR</th>\n",
       "      <th>DepartmentDescription_TOYS</th>\n",
       "      <th>DepartmentDescription_WIRELESS</th>\n",
       "      <th>DepartmentDescription_nan</th>\n",
       "    </tr>\n",
       "  </thead>\n",
       "  <tbody>\n",
       "    <tr>\n",
       "      <th>0</th>\n",
       "      <td>5</td>\n",
       "      <td>Friday</td>\n",
       "      <td>-1</td>\n",
       "      <td>0</td>\n",
       "      <td>0</td>\n",
       "      <td>0</td>\n",
       "      <td>0</td>\n",
       "      <td>0</td>\n",
       "      <td>0</td>\n",
       "      <td>0</td>\n",
       "      <td>...</td>\n",
       "      <td>0</td>\n",
       "      <td>0</td>\n",
       "      <td>0</td>\n",
       "      <td>0</td>\n",
       "      <td>0</td>\n",
       "      <td>0</td>\n",
       "      <td>0</td>\n",
       "      <td>0</td>\n",
       "      <td>0</td>\n",
       "      <td>0</td>\n",
       "    </tr>\n",
       "    <tr>\n",
       "      <th>1</th>\n",
       "      <td>9</td>\n",
       "      <td>Friday</td>\n",
       "      <td>1</td>\n",
       "      <td>0</td>\n",
       "      <td>0</td>\n",
       "      <td>0</td>\n",
       "      <td>0</td>\n",
       "      <td>0</td>\n",
       "      <td>0</td>\n",
       "      <td>0</td>\n",
       "      <td>...</td>\n",
       "      <td>0</td>\n",
       "      <td>0</td>\n",
       "      <td>0</td>\n",
       "      <td>0</td>\n",
       "      <td>0</td>\n",
       "      <td>0</td>\n",
       "      <td>0</td>\n",
       "      <td>0</td>\n",
       "      <td>0</td>\n",
       "      <td>0</td>\n",
       "    </tr>\n",
       "    <tr>\n",
       "      <th>2</th>\n",
       "      <td>9</td>\n",
       "      <td>Friday</td>\n",
       "      <td>1</td>\n",
       "      <td>0</td>\n",
       "      <td>0</td>\n",
       "      <td>0</td>\n",
       "      <td>0</td>\n",
       "      <td>0</td>\n",
       "      <td>0</td>\n",
       "      <td>0</td>\n",
       "      <td>...</td>\n",
       "      <td>0</td>\n",
       "      <td>0</td>\n",
       "      <td>0</td>\n",
       "      <td>0</td>\n",
       "      <td>0</td>\n",
       "      <td>0</td>\n",
       "      <td>0</td>\n",
       "      <td>0</td>\n",
       "      <td>0</td>\n",
       "      <td>0</td>\n",
       "    </tr>\n",
       "    <tr>\n",
       "      <th>3</th>\n",
       "      <td>9</td>\n",
       "      <td>Friday</td>\n",
       "      <td>1</td>\n",
       "      <td>0</td>\n",
       "      <td>0</td>\n",
       "      <td>0</td>\n",
       "      <td>0</td>\n",
       "      <td>0</td>\n",
       "      <td>0</td>\n",
       "      <td>0</td>\n",
       "      <td>...</td>\n",
       "      <td>0</td>\n",
       "      <td>0</td>\n",
       "      <td>0</td>\n",
       "      <td>0</td>\n",
       "      <td>0</td>\n",
       "      <td>0</td>\n",
       "      <td>0</td>\n",
       "      <td>0</td>\n",
       "      <td>0</td>\n",
       "      <td>0</td>\n",
       "    </tr>\n",
       "    <tr>\n",
       "      <th>4</th>\n",
       "      <td>10</td>\n",
       "      <td>Friday</td>\n",
       "      <td>1</td>\n",
       "      <td>0</td>\n",
       "      <td>0</td>\n",
       "      <td>0</td>\n",
       "      <td>0</td>\n",
       "      <td>0</td>\n",
       "      <td>0</td>\n",
       "      <td>0</td>\n",
       "      <td>...</td>\n",
       "      <td>0</td>\n",
       "      <td>0</td>\n",
       "      <td>0</td>\n",
       "      <td>0</td>\n",
       "      <td>0</td>\n",
       "      <td>0</td>\n",
       "      <td>0</td>\n",
       "      <td>0</td>\n",
       "      <td>0</td>\n",
       "      <td>0</td>\n",
       "    </tr>\n",
       "    <tr>\n",
       "      <th>...</th>\n",
       "      <td>...</td>\n",
       "      <td>...</td>\n",
       "      <td>...</td>\n",
       "      <td>...</td>\n",
       "      <td>...</td>\n",
       "      <td>...</td>\n",
       "      <td>...</td>\n",
       "      <td>...</td>\n",
       "      <td>...</td>\n",
       "      <td>...</td>\n",
       "      <td>...</td>\n",
       "      <td>...</td>\n",
       "      <td>...</td>\n",
       "      <td>...</td>\n",
       "      <td>...</td>\n",
       "      <td>...</td>\n",
       "      <td>...</td>\n",
       "      <td>...</td>\n",
       "      <td>...</td>\n",
       "      <td>...</td>\n",
       "      <td>...</td>\n",
       "    </tr>\n",
       "    <tr>\n",
       "      <th>453406</th>\n",
       "      <td>191344</td>\n",
       "      <td>Sunday</td>\n",
       "      <td>1</td>\n",
       "      <td>0</td>\n",
       "      <td>0</td>\n",
       "      <td>0</td>\n",
       "      <td>0</td>\n",
       "      <td>0</td>\n",
       "      <td>1</td>\n",
       "      <td>0</td>\n",
       "      <td>...</td>\n",
       "      <td>0</td>\n",
       "      <td>0</td>\n",
       "      <td>0</td>\n",
       "      <td>0</td>\n",
       "      <td>0</td>\n",
       "      <td>0</td>\n",
       "      <td>0</td>\n",
       "      <td>0</td>\n",
       "      <td>0</td>\n",
       "      <td>0</td>\n",
       "    </tr>\n",
       "    <tr>\n",
       "      <th>453407</th>\n",
       "      <td>191344</td>\n",
       "      <td>Sunday</td>\n",
       "      <td>1</td>\n",
       "      <td>0</td>\n",
       "      <td>0</td>\n",
       "      <td>0</td>\n",
       "      <td>0</td>\n",
       "      <td>0</td>\n",
       "      <td>0</td>\n",
       "      <td>0</td>\n",
       "      <td>...</td>\n",
       "      <td>0</td>\n",
       "      <td>0</td>\n",
       "      <td>0</td>\n",
       "      <td>0</td>\n",
       "      <td>0</td>\n",
       "      <td>0</td>\n",
       "      <td>0</td>\n",
       "      <td>0</td>\n",
       "      <td>1</td>\n",
       "      <td>0</td>\n",
       "    </tr>\n",
       "    <tr>\n",
       "      <th>453408</th>\n",
       "      <td>191344</td>\n",
       "      <td>Sunday</td>\n",
       "      <td>1</td>\n",
       "      <td>0</td>\n",
       "      <td>0</td>\n",
       "      <td>0</td>\n",
       "      <td>0</td>\n",
       "      <td>0</td>\n",
       "      <td>1</td>\n",
       "      <td>0</td>\n",
       "      <td>...</td>\n",
       "      <td>0</td>\n",
       "      <td>0</td>\n",
       "      <td>0</td>\n",
       "      <td>0</td>\n",
       "      <td>0</td>\n",
       "      <td>0</td>\n",
       "      <td>0</td>\n",
       "      <td>0</td>\n",
       "      <td>0</td>\n",
       "      <td>0</td>\n",
       "    </tr>\n",
       "    <tr>\n",
       "      <th>453409</th>\n",
       "      <td>191347</td>\n",
       "      <td>Sunday</td>\n",
       "      <td>1</td>\n",
       "      <td>0</td>\n",
       "      <td>0</td>\n",
       "      <td>0</td>\n",
       "      <td>0</td>\n",
       "      <td>0</td>\n",
       "      <td>0</td>\n",
       "      <td>0</td>\n",
       "      <td>...</td>\n",
       "      <td>0</td>\n",
       "      <td>0</td>\n",
       "      <td>0</td>\n",
       "      <td>0</td>\n",
       "      <td>0</td>\n",
       "      <td>0</td>\n",
       "      <td>0</td>\n",
       "      <td>0</td>\n",
       "      <td>0</td>\n",
       "      <td>0</td>\n",
       "    </tr>\n",
       "    <tr>\n",
       "      <th>453410</th>\n",
       "      <td>191347</td>\n",
       "      <td>Sunday</td>\n",
       "      <td>1</td>\n",
       "      <td>0</td>\n",
       "      <td>0</td>\n",
       "      <td>0</td>\n",
       "      <td>0</td>\n",
       "      <td>0</td>\n",
       "      <td>0</td>\n",
       "      <td>0</td>\n",
       "      <td>...</td>\n",
       "      <td>0</td>\n",
       "      <td>0</td>\n",
       "      <td>0</td>\n",
       "      <td>0</td>\n",
       "      <td>0</td>\n",
       "      <td>0</td>\n",
       "      <td>0</td>\n",
       "      <td>0</td>\n",
       "      <td>0</td>\n",
       "      <td>0</td>\n",
       "    </tr>\n",
       "  </tbody>\n",
       "</table>\n",
       "<p>453411 rows × 72 columns</p>\n",
       "</div>"
      ],
      "text/plain": [
       "        VisitNumber Weekday  ScanCount  DepartmentDescription_1-HR PHOTO  \\\n",
       "0                 5  Friday         -1                                 0   \n",
       "1                 9  Friday          1                                 0   \n",
       "2                 9  Friday          1                                 0   \n",
       "3                 9  Friday          1                                 0   \n",
       "4                10  Friday          1                                 0   \n",
       "...             ...     ...        ...                               ...   \n",
       "453406       191344  Sunday          1                                 0   \n",
       "453407       191344  Sunday          1                                 0   \n",
       "453408       191344  Sunday          1                                 0   \n",
       "453409       191347  Sunday          1                                 0   \n",
       "453410       191347  Sunday          1                                 0   \n",
       "\n",
       "        DepartmentDescription_ACCESSORIES  DepartmentDescription_AUTOMOTIVE  \\\n",
       "0                                       0                                 0   \n",
       "1                                       0                                 0   \n",
       "2                                       0                                 0   \n",
       "3                                       0                                 0   \n",
       "4                                       0                                 0   \n",
       "...                                   ...                               ...   \n",
       "453406                                  0                                 0   \n",
       "453407                                  0                                 0   \n",
       "453408                                  0                                 0   \n",
       "453409                                  0                                 0   \n",
       "453410                                  0                                 0   \n",
       "\n",
       "        DepartmentDescription_BAKERY  DepartmentDescription_BATH AND SHOWER  \\\n",
       "0                                  0                                      0   \n",
       "1                                  0                                      0   \n",
       "2                                  0                                      0   \n",
       "3                                  0                                      0   \n",
       "4                                  0                                      0   \n",
       "...                              ...                                    ...   \n",
       "453406                             0                                      0   \n",
       "453407                             0                                      0   \n",
       "453408                             0                                      0   \n",
       "453409                             0                                      0   \n",
       "453410                             0                                      0   \n",
       "\n",
       "        DepartmentDescription_BEAUTY  DepartmentDescription_BEDDING  ...  \\\n",
       "0                                  0                              0  ...   \n",
       "1                                  0                              0  ...   \n",
       "2                                  0                              0  ...   \n",
       "3                                  0                              0  ...   \n",
       "4                                  0                              0  ...   \n",
       "...                              ...                            ...  ...   \n",
       "453406                             1                              0  ...   \n",
       "453407                             0                              0  ...   \n",
       "453408                             1                              0  ...   \n",
       "453409                             0                              0  ...   \n",
       "453410                             0                              0  ...   \n",
       "\n",
       "        DepartmentDescription_SEASONAL  DepartmentDescription_SERVICE DELI  \\\n",
       "0                                    0                                   0   \n",
       "1                                    0                                   0   \n",
       "2                                    0                                   0   \n",
       "3                                    0                                   0   \n",
       "4                                    0                                   0   \n",
       "...                                ...                                 ...   \n",
       "453406                               0                                   0   \n",
       "453407                               0                                   0   \n",
       "453408                               0                                   0   \n",
       "453409                               0                                   0   \n",
       "453410                               0                                   0   \n",
       "\n",
       "        DepartmentDescription_SHEER HOSIERY  DepartmentDescription_SHOES  \\\n",
       "0                                         0                            0   \n",
       "1                                         0                            0   \n",
       "2                                         0                            0   \n",
       "3                                         0                            0   \n",
       "4                                         0                            0   \n",
       "...                                     ...                          ...   \n",
       "453406                                    0                            0   \n",
       "453407                                    0                            0   \n",
       "453408                                    0                            0   \n",
       "453409                                    0                            0   \n",
       "453410                                    0                            0   \n",
       "\n",
       "        DepartmentDescription_SLEEPWEAR/FOUNDATIONS  \\\n",
       "0                                                 0   \n",
       "1                                                 0   \n",
       "2                                                 0   \n",
       "3                                                 0   \n",
       "4                                                 0   \n",
       "...                                             ...   \n",
       "453406                                            0   \n",
       "453407                                            0   \n",
       "453408                                            0   \n",
       "453409                                            0   \n",
       "453410                                            0   \n",
       "\n",
       "        DepartmentDescription_SPORTING GOODS  \\\n",
       "0                                          0   \n",
       "1                                          0   \n",
       "2                                          0   \n",
       "3                                          0   \n",
       "4                                          0   \n",
       "...                                      ...   \n",
       "453406                                     0   \n",
       "453407                                     0   \n",
       "453408                                     0   \n",
       "453409                                     0   \n",
       "453410                                     0   \n",
       "\n",
       "        DepartmentDescription_SWIMWEAR/OUTERWEAR  DepartmentDescription_TOYS  \\\n",
       "0                                              0                           0   \n",
       "1                                              0                           0   \n",
       "2                                              0                           0   \n",
       "3                                              0                           0   \n",
       "4                                              0                           0   \n",
       "...                                          ...                         ...   \n",
       "453406                                         0                           0   \n",
       "453407                                         0                           0   \n",
       "453408                                         0                           0   \n",
       "453409                                         0                           0   \n",
       "453410                                         0                           0   \n",
       "\n",
       "        DepartmentDescription_WIRELESS  DepartmentDescription_nan  \n",
       "0                                    0                          0  \n",
       "1                                    0                          0  \n",
       "2                                    0                          0  \n",
       "3                                    0                          0  \n",
       "4                                    0                          0  \n",
       "...                                ...                        ...  \n",
       "453406                               0                          0  \n",
       "453407                               1                          0  \n",
       "453408                               0                          0  \n",
       "453409                               0                          0  \n",
       "453410                               0                          0  \n",
       "\n",
       "[453411 rows x 72 columns]"
      ]
     },
     "execution_count": 18,
     "metadata": {},
     "output_type": "execute_result"
    }
   ],
   "source": [
    "df"
   ]
  },
  {
   "cell_type": "markdown",
   "metadata": {
    "colab_type": "text",
    "id": "5PN64gaQooYN"
   },
   "source": [
    "Now, we group by the VisitNumber and Weekday (they should be the same), and add all values for ScanCount, and the one-hot encoding of DepartmentDescriptioin"
   ]
  },
  {
   "cell_type": "code",
   "execution_count": 19,
   "metadata": {
    "colab": {},
    "colab_type": "code",
    "executionInfo": {
     "elapsed": 5459,
     "status": "ok",
     "timestamp": 1598827242931,
     "user": {
      "displayName": "Leonardo Palacios",
      "photoUrl": "https://lh3.googleusercontent.com/a-/AOh14GhsVF6hZqKtVeeOYw6ScOA5hJYPh1n87cD4VKkRMg=s64",
      "userId": "01928733366017714942"
     },
     "user_tz": 180
    },
    "id": "McDhMoWkooYO"
   },
   "outputs": [],
   "source": [
    "df = df.groupby([\"VisitNumber\", \"Weekday\"], as_index=False).sum()"
   ]
  },
  {
   "cell_type": "code",
   "execution_count": 20,
   "metadata": {
    "colab": {
     "base_uri": "https://localhost:8080/",
     "height": 448
    },
    "colab_type": "code",
    "executionInfo": {
     "elapsed": 5452,
     "status": "ok",
     "timestamp": 1598827242931,
     "user": {
      "displayName": "Leonardo Palacios",
      "photoUrl": "https://lh3.googleusercontent.com/a-/AOh14GhsVF6hZqKtVeeOYw6ScOA5hJYPh1n87cD4VKkRMg=s64",
      "userId": "01928733366017714942"
     },
     "user_tz": 180
    },
    "id": "KinaGyaRooYT",
    "outputId": "4fc88f72-2980-41eb-b0f9-263070d8a83a"
   },
   "outputs": [
    {
     "data": {
      "text/html": [
       "<div>\n",
       "<style scoped>\n",
       "    .dataframe tbody tr th:only-of-type {\n",
       "        vertical-align: middle;\n",
       "    }\n",
       "\n",
       "    .dataframe tbody tr th {\n",
       "        vertical-align: top;\n",
       "    }\n",
       "\n",
       "    .dataframe thead th {\n",
       "        text-align: right;\n",
       "    }\n",
       "</style>\n",
       "<table border=\"1\" class=\"dataframe\">\n",
       "  <thead>\n",
       "    <tr style=\"text-align: right;\">\n",
       "      <th></th>\n",
       "      <th>VisitNumber</th>\n",
       "      <th>Weekday</th>\n",
       "      <th>ScanCount</th>\n",
       "      <th>DepartmentDescription_1-HR PHOTO</th>\n",
       "      <th>DepartmentDescription_ACCESSORIES</th>\n",
       "      <th>DepartmentDescription_AUTOMOTIVE</th>\n",
       "      <th>DepartmentDescription_BAKERY</th>\n",
       "      <th>DepartmentDescription_BATH AND SHOWER</th>\n",
       "      <th>DepartmentDescription_BEAUTY</th>\n",
       "      <th>DepartmentDescription_BEDDING</th>\n",
       "      <th>...</th>\n",
       "      <th>DepartmentDescription_SEASONAL</th>\n",
       "      <th>DepartmentDescription_SERVICE DELI</th>\n",
       "      <th>DepartmentDescription_SHEER HOSIERY</th>\n",
       "      <th>DepartmentDescription_SHOES</th>\n",
       "      <th>DepartmentDescription_SLEEPWEAR/FOUNDATIONS</th>\n",
       "      <th>DepartmentDescription_SPORTING GOODS</th>\n",
       "      <th>DepartmentDescription_SWIMWEAR/OUTERWEAR</th>\n",
       "      <th>DepartmentDescription_TOYS</th>\n",
       "      <th>DepartmentDescription_WIRELESS</th>\n",
       "      <th>DepartmentDescription_nan</th>\n",
       "    </tr>\n",
       "  </thead>\n",
       "  <tbody>\n",
       "    <tr>\n",
       "      <th>0</th>\n",
       "      <td>5</td>\n",
       "      <td>Friday</td>\n",
       "      <td>-1</td>\n",
       "      <td>0</td>\n",
       "      <td>0</td>\n",
       "      <td>0</td>\n",
       "      <td>0</td>\n",
       "      <td>0</td>\n",
       "      <td>0</td>\n",
       "      <td>0</td>\n",
       "      <td>...</td>\n",
       "      <td>0</td>\n",
       "      <td>0</td>\n",
       "      <td>0</td>\n",
       "      <td>0</td>\n",
       "      <td>0</td>\n",
       "      <td>0</td>\n",
       "      <td>0</td>\n",
       "      <td>0</td>\n",
       "      <td>0</td>\n",
       "      <td>0</td>\n",
       "    </tr>\n",
       "    <tr>\n",
       "      <th>1</th>\n",
       "      <td>9</td>\n",
       "      <td>Friday</td>\n",
       "      <td>3</td>\n",
       "      <td>0</td>\n",
       "      <td>0</td>\n",
       "      <td>0</td>\n",
       "      <td>0</td>\n",
       "      <td>0</td>\n",
       "      <td>0</td>\n",
       "      <td>0</td>\n",
       "      <td>...</td>\n",
       "      <td>0</td>\n",
       "      <td>0</td>\n",
       "      <td>0</td>\n",
       "      <td>0</td>\n",
       "      <td>0</td>\n",
       "      <td>0</td>\n",
       "      <td>0</td>\n",
       "      <td>0</td>\n",
       "      <td>0</td>\n",
       "      <td>0</td>\n",
       "    </tr>\n",
       "    <tr>\n",
       "      <th>2</th>\n",
       "      <td>10</td>\n",
       "      <td>Friday</td>\n",
       "      <td>3</td>\n",
       "      <td>0</td>\n",
       "      <td>0</td>\n",
       "      <td>0</td>\n",
       "      <td>0</td>\n",
       "      <td>0</td>\n",
       "      <td>0</td>\n",
       "      <td>0</td>\n",
       "      <td>...</td>\n",
       "      <td>0</td>\n",
       "      <td>0</td>\n",
       "      <td>0</td>\n",
       "      <td>0</td>\n",
       "      <td>0</td>\n",
       "      <td>0</td>\n",
       "      <td>0</td>\n",
       "      <td>0</td>\n",
       "      <td>0</td>\n",
       "      <td>0</td>\n",
       "    </tr>\n",
       "    <tr>\n",
       "      <th>3</th>\n",
       "      <td>11</td>\n",
       "      <td>Friday</td>\n",
       "      <td>4</td>\n",
       "      <td>0</td>\n",
       "      <td>0</td>\n",
       "      <td>0</td>\n",
       "      <td>0</td>\n",
       "      <td>0</td>\n",
       "      <td>0</td>\n",
       "      <td>0</td>\n",
       "      <td>...</td>\n",
       "      <td>0</td>\n",
       "      <td>0</td>\n",
       "      <td>0</td>\n",
       "      <td>0</td>\n",
       "      <td>0</td>\n",
       "      <td>0</td>\n",
       "      <td>0</td>\n",
       "      <td>0</td>\n",
       "      <td>0</td>\n",
       "      <td>0</td>\n",
       "    </tr>\n",
       "    <tr>\n",
       "      <th>4</th>\n",
       "      <td>12</td>\n",
       "      <td>Friday</td>\n",
       "      <td>7</td>\n",
       "      <td>0</td>\n",
       "      <td>0</td>\n",
       "      <td>0</td>\n",
       "      <td>0</td>\n",
       "      <td>0</td>\n",
       "      <td>0</td>\n",
       "      <td>0</td>\n",
       "      <td>...</td>\n",
       "      <td>0</td>\n",
       "      <td>0</td>\n",
       "      <td>0</td>\n",
       "      <td>1</td>\n",
       "      <td>0</td>\n",
       "      <td>0</td>\n",
       "      <td>0</td>\n",
       "      <td>0</td>\n",
       "      <td>0</td>\n",
       "      <td>0</td>\n",
       "    </tr>\n",
       "    <tr>\n",
       "      <th>...</th>\n",
       "      <td>...</td>\n",
       "      <td>...</td>\n",
       "      <td>...</td>\n",
       "      <td>...</td>\n",
       "      <td>...</td>\n",
       "      <td>...</td>\n",
       "      <td>...</td>\n",
       "      <td>...</td>\n",
       "      <td>...</td>\n",
       "      <td>...</td>\n",
       "      <td>...</td>\n",
       "      <td>...</td>\n",
       "      <td>...</td>\n",
       "      <td>...</td>\n",
       "      <td>...</td>\n",
       "      <td>...</td>\n",
       "      <td>...</td>\n",
       "      <td>...</td>\n",
       "      <td>...</td>\n",
       "      <td>...</td>\n",
       "      <td>...</td>\n",
       "    </tr>\n",
       "    <tr>\n",
       "      <th>67024</th>\n",
       "      <td>191329</td>\n",
       "      <td>Sunday</td>\n",
       "      <td>20</td>\n",
       "      <td>0</td>\n",
       "      <td>0</td>\n",
       "      <td>0</td>\n",
       "      <td>0</td>\n",
       "      <td>2</td>\n",
       "      <td>0</td>\n",
       "      <td>0</td>\n",
       "      <td>...</td>\n",
       "      <td>0</td>\n",
       "      <td>0</td>\n",
       "      <td>0</td>\n",
       "      <td>0</td>\n",
       "      <td>0</td>\n",
       "      <td>0</td>\n",
       "      <td>0</td>\n",
       "      <td>0</td>\n",
       "      <td>0</td>\n",
       "      <td>0</td>\n",
       "    </tr>\n",
       "    <tr>\n",
       "      <th>67025</th>\n",
       "      <td>191337</td>\n",
       "      <td>Sunday</td>\n",
       "      <td>27</td>\n",
       "      <td>0</td>\n",
       "      <td>0</td>\n",
       "      <td>0</td>\n",
       "      <td>1</td>\n",
       "      <td>0</td>\n",
       "      <td>0</td>\n",
       "      <td>0</td>\n",
       "      <td>...</td>\n",
       "      <td>0</td>\n",
       "      <td>0</td>\n",
       "      <td>0</td>\n",
       "      <td>0</td>\n",
       "      <td>0</td>\n",
       "      <td>0</td>\n",
       "      <td>0</td>\n",
       "      <td>0</td>\n",
       "      <td>0</td>\n",
       "      <td>0</td>\n",
       "    </tr>\n",
       "    <tr>\n",
       "      <th>67026</th>\n",
       "      <td>191343</td>\n",
       "      <td>Sunday</td>\n",
       "      <td>9</td>\n",
       "      <td>0</td>\n",
       "      <td>0</td>\n",
       "      <td>0</td>\n",
       "      <td>0</td>\n",
       "      <td>0</td>\n",
       "      <td>0</td>\n",
       "      <td>0</td>\n",
       "      <td>...</td>\n",
       "      <td>0</td>\n",
       "      <td>0</td>\n",
       "      <td>0</td>\n",
       "      <td>0</td>\n",
       "      <td>0</td>\n",
       "      <td>0</td>\n",
       "      <td>0</td>\n",
       "      <td>0</td>\n",
       "      <td>0</td>\n",
       "      <td>0</td>\n",
       "    </tr>\n",
       "    <tr>\n",
       "      <th>67027</th>\n",
       "      <td>191344</td>\n",
       "      <td>Sunday</td>\n",
       "      <td>5</td>\n",
       "      <td>0</td>\n",
       "      <td>0</td>\n",
       "      <td>0</td>\n",
       "      <td>0</td>\n",
       "      <td>0</td>\n",
       "      <td>4</td>\n",
       "      <td>0</td>\n",
       "      <td>...</td>\n",
       "      <td>0</td>\n",
       "      <td>0</td>\n",
       "      <td>0</td>\n",
       "      <td>0</td>\n",
       "      <td>0</td>\n",
       "      <td>0</td>\n",
       "      <td>0</td>\n",
       "      <td>0</td>\n",
       "      <td>1</td>\n",
       "      <td>0</td>\n",
       "    </tr>\n",
       "    <tr>\n",
       "      <th>67028</th>\n",
       "      <td>191347</td>\n",
       "      <td>Sunday</td>\n",
       "      <td>2</td>\n",
       "      <td>0</td>\n",
       "      <td>0</td>\n",
       "      <td>0</td>\n",
       "      <td>0</td>\n",
       "      <td>0</td>\n",
       "      <td>0</td>\n",
       "      <td>0</td>\n",
       "      <td>...</td>\n",
       "      <td>0</td>\n",
       "      <td>0</td>\n",
       "      <td>0</td>\n",
       "      <td>0</td>\n",
       "      <td>0</td>\n",
       "      <td>0</td>\n",
       "      <td>0</td>\n",
       "      <td>0</td>\n",
       "      <td>0</td>\n",
       "      <td>0</td>\n",
       "    </tr>\n",
       "  </tbody>\n",
       "</table>\n",
       "<p>67029 rows × 72 columns</p>\n",
       "</div>"
      ],
      "text/plain": [
       "       VisitNumber Weekday  ScanCount  DepartmentDescription_1-HR PHOTO  \\\n",
       "0                5  Friday         -1                                 0   \n",
       "1                9  Friday          3                                 0   \n",
       "2               10  Friday          3                                 0   \n",
       "3               11  Friday          4                                 0   \n",
       "4               12  Friday          7                                 0   \n",
       "...            ...     ...        ...                               ...   \n",
       "67024       191329  Sunday         20                                 0   \n",
       "67025       191337  Sunday         27                                 0   \n",
       "67026       191343  Sunday          9                                 0   \n",
       "67027       191344  Sunday          5                                 0   \n",
       "67028       191347  Sunday          2                                 0   \n",
       "\n",
       "       DepartmentDescription_ACCESSORIES  DepartmentDescription_AUTOMOTIVE  \\\n",
       "0                                      0                                 0   \n",
       "1                                      0                                 0   \n",
       "2                                      0                                 0   \n",
       "3                                      0                                 0   \n",
       "4                                      0                                 0   \n",
       "...                                  ...                               ...   \n",
       "67024                                  0                                 0   \n",
       "67025                                  0                                 0   \n",
       "67026                                  0                                 0   \n",
       "67027                                  0                                 0   \n",
       "67028                                  0                                 0   \n",
       "\n",
       "       DepartmentDescription_BAKERY  DepartmentDescription_BATH AND SHOWER  \\\n",
       "0                                 0                                      0   \n",
       "1                                 0                                      0   \n",
       "2                                 0                                      0   \n",
       "3                                 0                                      0   \n",
       "4                                 0                                      0   \n",
       "...                             ...                                    ...   \n",
       "67024                             0                                      2   \n",
       "67025                             1                                      0   \n",
       "67026                             0                                      0   \n",
       "67027                             0                                      0   \n",
       "67028                             0                                      0   \n",
       "\n",
       "       DepartmentDescription_BEAUTY  DepartmentDescription_BEDDING  ...  \\\n",
       "0                                 0                              0  ...   \n",
       "1                                 0                              0  ...   \n",
       "2                                 0                              0  ...   \n",
       "3                                 0                              0  ...   \n",
       "4                                 0                              0  ...   \n",
       "...                             ...                            ...  ...   \n",
       "67024                             0                              0  ...   \n",
       "67025                             0                              0  ...   \n",
       "67026                             0                              0  ...   \n",
       "67027                             4                              0  ...   \n",
       "67028                             0                              0  ...   \n",
       "\n",
       "       DepartmentDescription_SEASONAL  DepartmentDescription_SERVICE DELI  \\\n",
       "0                                   0                                   0   \n",
       "1                                   0                                   0   \n",
       "2                                   0                                   0   \n",
       "3                                   0                                   0   \n",
       "4                                   0                                   0   \n",
       "...                               ...                                 ...   \n",
       "67024                               0                                   0   \n",
       "67025                               0                                   0   \n",
       "67026                               0                                   0   \n",
       "67027                               0                                   0   \n",
       "67028                               0                                   0   \n",
       "\n",
       "       DepartmentDescription_SHEER HOSIERY  DepartmentDescription_SHOES  \\\n",
       "0                                        0                            0   \n",
       "1                                        0                            0   \n",
       "2                                        0                            0   \n",
       "3                                        0                            0   \n",
       "4                                        0                            1   \n",
       "...                                    ...                          ...   \n",
       "67024                                    0                            0   \n",
       "67025                                    0                            0   \n",
       "67026                                    0                            0   \n",
       "67027                                    0                            0   \n",
       "67028                                    0                            0   \n",
       "\n",
       "       DepartmentDescription_SLEEPWEAR/FOUNDATIONS  \\\n",
       "0                                                0   \n",
       "1                                                0   \n",
       "2                                                0   \n",
       "3                                                0   \n",
       "4                                                0   \n",
       "...                                            ...   \n",
       "67024                                            0   \n",
       "67025                                            0   \n",
       "67026                                            0   \n",
       "67027                                            0   \n",
       "67028                                            0   \n",
       "\n",
       "       DepartmentDescription_SPORTING GOODS  \\\n",
       "0                                         0   \n",
       "1                                         0   \n",
       "2                                         0   \n",
       "3                                         0   \n",
       "4                                         0   \n",
       "...                                     ...   \n",
       "67024                                     0   \n",
       "67025                                     0   \n",
       "67026                                     0   \n",
       "67027                                     0   \n",
       "67028                                     0   \n",
       "\n",
       "       DepartmentDescription_SWIMWEAR/OUTERWEAR  DepartmentDescription_TOYS  \\\n",
       "0                                             0                           0   \n",
       "1                                             0                           0   \n",
       "2                                             0                           0   \n",
       "3                                             0                           0   \n",
       "4                                             0                           0   \n",
       "...                                         ...                         ...   \n",
       "67024                                         0                           0   \n",
       "67025                                         0                           0   \n",
       "67026                                         0                           0   \n",
       "67027                                         0                           0   \n",
       "67028                                         0                           0   \n",
       "\n",
       "       DepartmentDescription_WIRELESS  DepartmentDescription_nan  \n",
       "0                                   0                          0  \n",
       "1                                   0                          0  \n",
       "2                                   0                          0  \n",
       "3                                   0                          0  \n",
       "4                                   0                          0  \n",
       "...                               ...                        ...  \n",
       "67024                               0                          0  \n",
       "67025                               0                          0  \n",
       "67026                               0                          0  \n",
       "67027                               1                          0  \n",
       "67028                               0                          0  \n",
       "\n",
       "[67029 rows x 72 columns]"
      ]
     },
     "execution_count": 20,
     "metadata": {},
     "output_type": "execute_result"
    }
   ],
   "source": [
    "df"
   ]
  },
  {
   "cell_type": "code",
   "execution_count": 21,
   "metadata": {
    "colab": {},
    "colab_type": "code",
    "executionInfo": {
     "elapsed": 5445,
     "status": "ok",
     "timestamp": 1598827242932,
     "user": {
      "displayName": "Leonardo Palacios",
      "photoUrl": "https://lh3.googleusercontent.com/a-/AOh14GhsVF6hZqKtVeeOYw6ScOA5hJYPh1n87cD4VKkRMg=s64",
      "userId": "01928733366017714942"
     },
     "user_tz": 180
    },
    "id": "32vofGKRooYZ"
   },
   "outputs": [],
   "source": [
    "def transform_data(train_data_fname, test_data_fname):\n",
    "    df_train = pd.read_csv(train_data_fname)\n",
    "    df_train['is_train_set'] = 1\n",
    "    df_test = pd.read_csv(test_data_fname)\n",
    "    df_test['is_train_set'] = 0\n",
    "\n",
    "    # we  get the TripType for the train set. To do that, we group by VisitNumber and\n",
    "    # then we get the max (or min or avg)\n",
    "    y = df_train.groupby([\"VisitNumber\", \"Weekday\"], as_index=False).max().TripType\n",
    "\n",
    "    # we remove the TripType now, and concat training and testing data\n",
    "    # the concat is done so that we have the same columns for both datasets\n",
    "    # after one-hot encoding\n",
    "    df_train = df_train.drop(\"TripType\", axis=1)\n",
    "    df = pd.concat([df_train, df_test])\n",
    "    \n",
    "    # the next three operations are the ones we have just presented in the previous lines\n",
    "    \n",
    "    # drop the columns we won't use (it may be good to use them somehow)\n",
    "    df = df.drop([\"Upc\", \"FinelineNumber\"], axis=1)\n",
    "\n",
    "    # one-hot encoding for the DepartmentDescription\n",
    "    df = pd.get_dummies(df, columns=[\"DepartmentDescription\"], dummy_na=True)\n",
    "\n",
    "    # now we add the groupby values\n",
    "    df = df.groupby([\"VisitNumber\", \"Weekday\"], as_index=False).sum()\n",
    "    \n",
    "    # finally, we do one-hot encoding for the Weekday\n",
    "    df = pd.get_dummies(df, columns=[\"Weekday\"], dummy_na=True)\n",
    "\n",
    "    # get train and test back\n",
    "    df_train = df[df.is_train_set != 0]\n",
    "    df_test = df[df.is_train_set == 0]\n",
    "    \n",
    "    X = df_train.drop([\"is_train_set\"], axis=1)\n",
    "    yy = None\n",
    "    XX = df_test.drop([\"is_train_set\"], axis=1)\n",
    "\n",
    "    return X, y, XX, yy"
   ]
  },
  {
   "cell_type": "markdown",
   "metadata": {
    "colab_type": "text",
    "id": "4REGOzWrooYe"
   },
   "source": [
    "Load the data..."
   ]
  },
  {
   "cell_type": "code",
   "execution_count": 22,
   "metadata": {
    "colab": {},
    "colab_type": "code",
    "executionInfo": {
     "elapsed": 9225,
     "status": "ok",
     "timestamp": 1598827246718,
     "user": {
      "displayName": "Leonardo Palacios",
      "photoUrl": "https://lh3.googleusercontent.com/a-/AOh14GhsVF6hZqKtVeeOYw6ScOA5hJYPh1n87cD4VKkRMg=s64",
      "userId": "01928733366017714942"
     },
     "user_tz": 180
    },
    "id": "H9aiV4xTooYf"
   },
   "outputs": [],
   "source": [
    "# url_train definida al principio!\n",
    "url_test = 'https://raw.githubusercontent.com/DiploDatos/AprendizajeSupervisado/master/practico/data/test.csv'\n",
    "\n",
    "X, y, XX, yy = transform_data(url_train, url_test)"
   ]
  },
  {
   "cell_type": "markdown",
   "metadata": {
    "colab_type": "text",
    "id": "4SxK37isooYp"
   },
   "source": [
    "Create the model and evaluate it"
   ]
  },
  {
   "cell_type": "code",
   "execution_count": 23,
   "metadata": {
    "colab": {},
    "colab_type": "code",
    "executionInfo": {
     "elapsed": 9491,
     "status": "ok",
     "timestamp": 1598827246989,
     "user": {
      "displayName": "Leonardo Palacios",
      "photoUrl": "https://lh3.googleusercontent.com/a-/AOh14GhsVF6hZqKtVeeOYw6ScOA5hJYPh1n87cD4VKkRMg=s64",
      "userId": "01928733366017714942"
     },
     "user_tz": 180
    },
    "id": "r4RQcMMMooYq"
   },
   "outputs": [],
   "source": [
    "# split training dataset into train and \"validation\" \n",
    "# (we won't be using validation set in this example, because of the cross-validation;\n",
    "# but it could be useful for you depending on your approach)\n",
    "from sklearn.model_selection import train_test_split\n",
    "X_train, X_valid, y_train, y_valid = train_test_split(X, y, test_size=0.3, random_state=42)"
   ]
  },
  {
   "cell_type": "code",
   "execution_count": 24,
   "metadata": {
    "colab": {},
    "colab_type": "code",
    "executionInfo": {
     "elapsed": 9487,
     "status": "ok",
     "timestamp": 1598827246991,
     "user": {
      "displayName": "Leonardo Palacios",
      "photoUrl": "https://lh3.googleusercontent.com/a-/AOh14GhsVF6hZqKtVeeOYw6ScOA5hJYPh1n87cD4VKkRMg=s64",
      "userId": "01928733366017714942"
     },
     "user_tz": 180
    },
    "id": "7C5BbHJvooYw"
   },
   "outputs": [],
   "source": [
    "# results dataframe is used to store the computed results\n",
    "results = pd.DataFrame(columns=('clf', 'best_acc'))"
   ]
  },
  {
   "cell_type": "code",
   "execution_count": 25,
   "metadata": {
    "colab": {},
    "colab_type": "code",
    "executionInfo": {
     "elapsed": 105808,
     "status": "ok",
     "timestamp": 1598827343319,
     "user": {
      "displayName": "Leonardo Palacios",
      "photoUrl": "https://lh3.googleusercontent.com/a-/AOh14GhsVF6hZqKtVeeOYw6ScOA5hJYPh1n87cD4VKkRMg=s64",
      "userId": "01928733366017714942"
     },
     "user_tz": 180
    },
    "id": "DCbA0BCdooY2"
   },
   "outputs": [],
   "source": [
    "# we will use a DesicionTree to classify and GridSearch to determine the parameters\n",
    "from sklearn.tree import DecisionTreeClassifier as DT\n",
    "from sklearn.model_selection import GridSearchCV\n",
    "from sklearn.metrics import accuracy_score\n",
    "\n",
    "tree_param = {'criterion':('gini', 'entropy'), 'min_samples_leaf':(1, 2, 5),\n",
    "              'min_samples_split':(2, 3, 5, 10, 50, 100)}\n",
    "tree = DT(random_state=42)\n",
    "tree_clf = GridSearchCV(tree, tree_param, cv=3, scoring='accuracy') #scoring='balanced_accuracy')\n",
    "tree_clf.fit(X_train, y_train)\n",
    "best_tree_clf = tree_clf.best_estimator_"
   ]
  },
  {
   "cell_type": "code",
   "execution_count": 26,
   "metadata": {
    "colab": {
     "base_uri": "https://localhost:8080/",
     "height": 266
    },
    "colab_type": "code",
    "executionInfo": {
     "elapsed": 105803,
     "status": "ok",
     "timestamp": 1598827343323,
     "user": {
      "displayName": "Leonardo Palacios",
      "photoUrl": "https://lh3.googleusercontent.com/a-/AOh14GhsVF6hZqKtVeeOYw6ScOA5hJYPh1n87cD4VKkRMg=s64",
      "userId": "01928733366017714942"
     },
     "user_tz": 180
    },
    "id": "-f9WpKGKooY7",
    "outputId": "af6f37cf-da08-4642-e792-8c8a3c6d6ca4"
   },
   "outputs": [
    {
     "name": "stdout",
     "output_type": "stream",
     "text": [
      "Best Decision Tree accuracy:  0.6304134697357204\n",
      "DecisionTreeClassifier(min_samples_leaf=5, min_samples_split=100,\n",
      "                       random_state=42)\n",
      "The best classifier so far is: \n",
      "DecisionTreeClassifier(min_samples_leaf=5, min_samples_split=100,\n",
      "                       random_state=42)\n"
     ]
    }
   ],
   "source": [
    "print('Best Decision Tree accuracy: ', tree_clf.best_score_)\n",
    "print(best_tree_clf)\n",
    "results = results.append({'clf': best_tree_clf, 'best_acc': tree_clf.best_score_}, ignore_index=True)\n",
    "\n",
    "print('The best classifier so far is: ')\n",
    "print(results.loc[results['best_acc'].idxmax()]['clf'])"
   ]
  },
  {
   "cell_type": "markdown",
   "metadata": {
    "colab_type": "text",
    "id": "TbzOrZeNooY_"
   },
   "source": [
    "**And finally**, we predict the unknown label for the testing set"
   ]
  },
  {
   "cell_type": "code",
   "execution_count": 27,
   "metadata": {
    "colab": {},
    "colab_type": "code",
    "executionInfo": {
     "elapsed": 105794,
     "status": "ok",
     "timestamp": 1598827343323,
     "user": {
      "displayName": "Leonardo Palacios",
      "photoUrl": "https://lh3.googleusercontent.com/a-/AOh14GhsVF6hZqKtVeeOYw6ScOA5hJYPh1n87cD4VKkRMg=s64",
      "userId": "01928733366017714942"
     },
     "user_tz": 180
    },
    "id": "qdyaGH7wooZA"
   },
   "outputs": [],
   "source": [
    "#X.shape, XX.shape"
   ]
  },
  {
   "cell_type": "code",
   "execution_count": 28,
   "metadata": {
    "colab": {},
    "colab_type": "code",
    "executionInfo": {
     "elapsed": 105789,
     "status": "ok",
     "timestamp": 1598827343324,
     "user": {
      "displayName": "Leonardo Palacios",
      "photoUrl": "https://lh3.googleusercontent.com/a-/AOh14GhsVF6hZqKtVeeOYw6ScOA5hJYPh1n87cD4VKkRMg=s64",
      "userId": "01928733366017714942"
     },
     "user_tz": 180
    },
    "id": "igGUCVPqooZF"
   },
   "outputs": [],
   "source": [
    "#yy = results.clf.iloc[0].predict(XX)"
   ]
  },
  {
   "cell_type": "markdown",
   "metadata": {
    "colab_type": "text",
    "id": "xX0sdBzAooZL"
   },
   "source": [
    "The last thing we do is generating a file that should be *submitted* on kaggle"
   ]
  },
  {
   "cell_type": "code",
   "execution_count": 29,
   "metadata": {
    "colab": {},
    "colab_type": "code",
    "executionInfo": {
     "elapsed": 105782,
     "status": "ok",
     "timestamp": 1598827343324,
     "user": {
      "displayName": "Leonardo Palacios",
      "photoUrl": "https://lh3.googleusercontent.com/a-/AOh14GhsVF6hZqKtVeeOYw6ScOA5hJYPh1n87cD4VKkRMg=s64",
      "userId": "01928733366017714942"
     },
     "user_tz": 180
    },
    "id": "yyoBdgh-ooZM"
   },
   "outputs": [],
   "source": [
    "#submission = pd.DataFrame(list(zip(XX.VisitNumber, yy)), columns=[\"VisitNumber\", \"TripType\"])"
   ]
  },
  {
   "cell_type": "code",
   "execution_count": 30,
   "metadata": {
    "colab": {},
    "colab_type": "code",
    "executionInfo": {
     "elapsed": 105777,
     "status": "ok",
     "timestamp": 1598827343325,
     "user": {
      "displayName": "Leonardo Palacios",
      "photoUrl": "https://lh3.googleusercontent.com/a-/AOh14GhsVF6hZqKtVeeOYw6ScOA5hJYPh1n87cD4VKkRMg=s64",
      "userId": "01928733366017714942"
     },
     "user_tz": 180
    },
    "id": "jlQBICSmooZR"
   },
   "outputs": [],
   "source": [
    "#submission.to_csv(\"../data/submission.csv\", header=True, index=False)"
   ]
  },
  {
   "cell_type": "markdown",
   "metadata": {
    "colab_type": "text",
    "id": "BlN8osVjy8oS"
   },
   "source": [
    "### PRACTICA ###\n",
    "\n",
    "**Data fields**\n",
    "* **TripType** - a categorical id representing the type of shopping trip the customer made. This is the ground truth that you are predicting. *TripType_999 is an \"other\" category.*\n",
    "* **VisitNumber** - an id corresponding to a single trip by a single customer\n",
    "* **Weekday** - the weekday of the trip\n",
    "* **Upc** - the UPC number of the product purchased\n",
    "* **ScanCount** - the number of the given item that was purchased. A negative value indicates a product return.\n",
    "* **DepartmentDescription** - a high-level description of the item's department\n",
    "* **FinelineNumber** - a more refined category for each of the products, created by Walmart"
   ]
  },
  {
   "cell_type": "markdown",
   "metadata": {
    "colab_type": "text",
    "id": "LOblAJ4gCmZi"
   },
   "source": [
    "##### Consideraciones\n",
    "* Luego de muchas pruebas con un dataset en donde dropeamos las filas con Upc=NaN observamos que los valores de accuracy eran muy bajos. Por lo tanto decidimos continuar con el *approach* original."
   ]
  },
  {
   "cell_type": "code",
   "execution_count": 31,
   "metadata": {},
   "outputs": [],
   "source": [
    "# Para comparar\n",
    "models_scores = dict()"
   ]
  },
  {
   "cell_type": "code",
   "execution_count": 32,
   "metadata": {
    "colab": {},
    "colab_type": "code",
    "executionInfo": {
     "elapsed": 105766,
     "status": "ok",
     "timestamp": 1598827343326,
     "user": {
      "displayName": "Leonardo Palacios",
      "photoUrl": "https://lh3.googleusercontent.com/a-/AOh14GhsVF6hZqKtVeeOYw6ScOA5hJYPh1n87cD4VKkRMg=s64",
      "userId": "01928733366017714942"
     },
     "user_tz": 180
    },
    "id": "z1dyEgwODEx4"
   },
   "outputs": [],
   "source": [
    "## Utilizamos el core del metodo original con algunas modificaciones para probar varios modelos\n",
    "def transform_data(train_data_fname, test_data_fname):\n",
    "    df_train = pd.read_csv(train_data_fname)\n",
    "    df_train['is_train_set'] = 1\n",
    "    df_test = pd.read_csv(test_data_fname)\n",
    "    df_test['is_train_set'] = 0\n",
    "\n",
    "    # we  get the TripType for the train set. To do that, we group by VisitNumber and\n",
    "    # then we get the max (or min or avg)\n",
    "    y = df_train.groupby([\"VisitNumber\", \"Weekday\"], as_index=False).max().TripType\n",
    "\n",
    "    # we remove the TripType now, and concat training and testing data\n",
    "    # the concat is done so that we have the same columns for both datasets\n",
    "    # after one-hot encoding\n",
    "    df_train = df_train.drop(\"TripType\", axis=1)\n",
    "    df = pd.concat([df_train, df_test])\n",
    "    \n",
    "    # the next three operations are the ones we have just presented in the previous lines\n",
    "    \n",
    "    # drop the columns we won't use (it may be good to use them somehow)\n",
    "    df = df.drop([\"Upc\", \"FinelineNumber\"], axis=1)\n",
    "\n",
    "    # one-hot encoding for the DepartmentDescription\n",
    "    df = pd.get_dummies(df, columns=[\"DepartmentDescription\"], dummy_na=True)\n",
    "\n",
    "    # now we add the groupby values\n",
    "    df = df.groupby([\"VisitNumber\", \"Weekday\"], as_index=False).sum()\n",
    "    \n",
    "    # finally, we do one-hot encoding for the Weekday\n",
    "    df = pd.get_dummies(df, columns=[\"Weekday\"], dummy_na=True)\n",
    "\n",
    "    ## FOR some NaiveBayes models\n",
    "    # Agregamos una columna para diferenciar compras y devoluciones y pasamos a abs la variable ScanCounts\n",
    "    df.loc[df['ScanCount'] >= 0, 'BuyReturn'] = 1\n",
    "    df.loc[df['ScanCount'] < 0, 'BuyReturn'] = 0\n",
    "    \n",
    "    df['ScanCountAbs'] = abs(df['ScanCount'])\n",
    "\n",
    "    # get train and test back\n",
    "    df_train = df[df.is_train_set != 0]\n",
    "    df_test = df[df.is_train_set == 0]\n",
    "    \n",
    "    X = df_train.drop([\"is_train_set\"], axis=1)\n",
    "    yy = None\n",
    "    XX = df_test.drop([\"is_train_set\"], axis=1)\n",
    "\n",
    "    return X, y, XX, yy"
   ]
  },
  {
   "cell_type": "code",
   "execution_count": 33,
   "metadata": {
    "colab": {},
    "colab_type": "code",
    "executionInfo": {
     "elapsed": 105759,
     "status": "ok",
     "timestamp": 1598827343326,
     "user": {
      "displayName": "Leonardo Palacios",
      "photoUrl": "https://lh3.googleusercontent.com/a-/AOh14GhsVF6hZqKtVeeOYw6ScOA5hJYPh1n87cD4VKkRMg=s64",
      "userId": "01928733366017714942"
     },
     "user_tz": 180
    },
    "id": "C1se8GzDc_R5"
   },
   "outputs": [],
   "source": [
    "from sklearn.preprocessing import StandardScaler, MinMaxScaler\n",
    "from sklearn.model_selection import GridSearchCV, RandomizedSearchCV, train_test_split\n",
    "from sklearn.metrics import accuracy_score"
   ]
  },
  {
   "cell_type": "markdown",
   "metadata": {
    "colab_type": "text",
    "id": "FAOC0tnOwFft"
   },
   "source": [
    "#### Prueba con NaiveBayes"
   ]
  },
  {
   "cell_type": "code",
   "execution_count": 34,
   "metadata": {
    "colab": {},
    "colab_type": "code",
    "executionInfo": {
     "elapsed": 105749,
     "status": "ok",
     "timestamp": 1598827343328,
     "user": {
      "displayName": "Leonardo Palacios",
      "photoUrl": "https://lh3.googleusercontent.com/a-/AOh14GhsVF6hZqKtVeeOYw6ScOA5hJYPh1n87cD4VKkRMg=s64",
      "userId": "01928733366017714942"
     },
     "user_tz": 180
    },
    "id": "IXzwqcdswJRp"
   },
   "outputs": [],
   "source": [
    "# Me parece que se complica utilizar NaiveBayes aca al generar las dummys. No entiendo bien si NB puede trabajar\n",
    "# con dummys o no por el hecho de que se apoya en la distribucion de probabilidades"
   ]
  },
  {
   "cell_type": "code",
   "execution_count": 35,
   "metadata": {
    "colab": {},
    "colab_type": "code",
    "executionInfo": {
     "elapsed": 109463,
     "status": "ok",
     "timestamp": 1598827347049,
     "user": {
      "displayName": "Leonardo Palacios",
      "photoUrl": "https://lh3.googleusercontent.com/a-/AOh14GhsVF6hZqKtVeeOYw6ScOA5hJYPh1n87cD4VKkRMg=s64",
      "userId": "01928733366017714942"
     },
     "user_tz": 180
    },
    "id": "t0tFPI4xHbYC"
   },
   "outputs": [],
   "source": [
    "X, y, XX, yy = transform_data(url_train, url_test)\n",
    "X = X.drop(columns=['VisitNumber','ScanCount'])\n",
    "X_train, X_test, y_train, y_test = train_test_split(X, y, test_size=0.3, random_state=42, shuffle=False)"
   ]
  },
  {
   "cell_type": "code",
   "execution_count": 36,
   "metadata": {
    "colab": {
     "base_uri": "https://localhost:8080/",
     "height": 0
    },
    "colab_type": "code",
    "executionInfo": {
     "elapsed": 109888,
     "status": "ok",
     "timestamp": 1598827347487,
     "user": {
      "displayName": "Leonardo Palacios",
      "photoUrl": "https://lh3.googleusercontent.com/a-/AOh14GhsVF6hZqKtVeeOYw6ScOA5hJYPh1n87cD4VKkRMg=s64",
      "userId": "01928733366017714942"
     },
     "user_tz": 180
    },
    "id": "uq13hu1cAPTH",
    "outputId": "1e254881-9e65-43e8-ff0e-f4438247e34c"
   },
   "outputs": [
    {
     "name": "stdout",
     "output_type": "stream",
     "text": [
      "GaussNB 0.14844099656870058\n",
      "MultiNB 0.5486598040678303\n",
      "CompNB 0.4137948182405888\n"
     ]
    }
   ],
   "source": [
    "from sklearn.naive_bayes import GaussianNB, MultinomialNB, ComplementNB\n",
    "\n",
    "gnb = GaussianNB()\n",
    "mnb = MultinomialNB()\n",
    "cnb = ComplementNB()\n",
    "\n",
    "for name, clf in zip(['GaussNB', 'MultiNB', 'CompNB'],[gnb, mnb, cnb]):\n",
    "  clf.fit(X_train, y_train)\n",
    "  nb_score = accuracy_score(y_test, clf.predict(X_test))\n",
    "  print(name, nb_score)\n",
    "  models_scores[name] = nb_score"
   ]
  },
  {
   "cell_type": "markdown",
   "metadata": {
    "colab_type": "text",
    "id": "WtBoB9QjPOO9"
   },
   "source": [
    "#### Prueba con KNN"
   ]
  },
  {
   "cell_type": "code",
   "execution_count": 37,
   "metadata": {
    "colab": {},
    "colab_type": "code",
    "executionInfo": {
     "elapsed": 113157,
     "status": "ok",
     "timestamp": 1598827350766,
     "user": {
      "displayName": "Leonardo Palacios",
      "photoUrl": "https://lh3.googleusercontent.com/a-/AOh14GhsVF6hZqKtVeeOYw6ScOA5hJYPh1n87cD4VKkRMg=s64",
      "userId": "01928733366017714942"
     },
     "user_tz": 180
    },
    "id": "9hz9z5juSNVL"
   },
   "outputs": [],
   "source": [
    "X, y, XX, yy = transform_data(url_train, url_test)\n",
    "X_train, X_test, y_train, y_test = train_test_split(X, y, test_size=0.3, random_state=42, shuffle=False)"
   ]
  },
  {
   "cell_type": "code",
   "execution_count": 38,
   "metadata": {
    "colab": {
     "base_uri": "https://localhost:8080/",
     "height": 444
    },
    "colab_type": "code",
    "executionInfo": {
     "elapsed": 113149,
     "status": "ok",
     "timestamp": 1598827350769,
     "user": {
      "displayName": "Leonardo Palacios",
      "photoUrl": "https://lh3.googleusercontent.com/a-/AOh14GhsVF6hZqKtVeeOYw6ScOA5hJYPh1n87cD4VKkRMg=s64",
      "userId": "01928733366017714942"
     },
     "user_tz": 180
    },
    "id": "H4KI8rVHKzQz",
    "outputId": "7352f383-64bd-48b2-e97c-571f4cec1495"
   },
   "outputs": [
    {
     "name": "stderr",
     "output_type": "stream",
     "text": [
      "<ipython-input-38-54b44992100d>:1: SettingWithCopyWarning: \n",
      "A value is trying to be set on a copy of a slice from a DataFrame.\n",
      "Try using .loc[row_indexer,col_indexer] = value instead\n",
      "\n",
      "See the caveats in the documentation: https://pandas.pydata.org/pandas-docs/stable/user_guide/indexing.html#returning-a-view-versus-a-copy\n",
      "  X_train['ScaledVisitNumber'] = StandardScaler().fit_transform(X_train[['VisitNumber']])\n",
      "<ipython-input-38-54b44992100d>:2: SettingWithCopyWarning: \n",
      "A value is trying to be set on a copy of a slice from a DataFrame.\n",
      "Try using .loc[row_indexer,col_indexer] = value instead\n",
      "\n",
      "See the caveats in the documentation: https://pandas.pydata.org/pandas-docs/stable/user_guide/indexing.html#returning-a-view-versus-a-copy\n",
      "  X_train['ScaledScanCount'] = StandardScaler().fit_transform(X_train[['ScanCount']])\n",
      "<ipython-input-38-54b44992100d>:3: SettingWithCopyWarning: \n",
      "A value is trying to be set on a copy of a slice from a DataFrame.\n",
      "Try using .loc[row_indexer,col_indexer] = value instead\n",
      "\n",
      "See the caveats in the documentation: https://pandas.pydata.org/pandas-docs/stable/user_guide/indexing.html#returning-a-view-versus-a-copy\n",
      "  X_test['ScaledVisitNumber'] = StandardScaler().fit_transform(X_test[['VisitNumber']])\n",
      "<ipython-input-38-54b44992100d>:4: SettingWithCopyWarning: \n",
      "A value is trying to be set on a copy of a slice from a DataFrame.\n",
      "Try using .loc[row_indexer,col_indexer] = value instead\n",
      "\n",
      "See the caveats in the documentation: https://pandas.pydata.org/pandas-docs/stable/user_guide/indexing.html#returning-a-view-versus-a-copy\n",
      "  X_test['ScaledScanCount'] = StandardScaler().fit_transform(X_test[['ScanCount']])\n"
     ]
    }
   ],
   "source": [
    "X_train['ScaledVisitNumber'] = StandardScaler().fit_transform(X_train[['VisitNumber']])\n",
    "X_train['ScaledScanCount'] = StandardScaler().fit_transform(X_train[['ScanCount']])\n",
    "X_test['ScaledVisitNumber'] = StandardScaler().fit_transform(X_test[['VisitNumber']])\n",
    "X_test['ScaledScanCount'] = StandardScaler().fit_transform(X_test[['ScanCount']])\n",
    "\n",
    "X_train = X_train.drop(columns=['VisitNumber', 'ScanCount','ScanCountAbs','BuyReturn'])\n",
    "X_test = X_test.drop(columns=['VisitNumber', 'ScanCount','ScanCountAbs','BuyReturn'])"
   ]
  },
  {
   "cell_type": "code",
   "execution_count": 39,
   "metadata": {
    "colab": {
     "base_uri": "https://localhost:8080/",
     "height": 35
    },
    "colab_type": "code",
    "executionInfo": {
     "elapsed": 174155,
     "status": "ok",
     "timestamp": 1598827411786,
     "user": {
      "displayName": "Leonardo Palacios",
      "photoUrl": "https://lh3.googleusercontent.com/a-/AOh14GhsVF6hZqKtVeeOYw6ScOA5hJYPh1n87cD4VKkRMg=s64",
      "userId": "01928733366017714942"
     },
     "user_tz": 180
    },
    "id": "dxz9iZJsVHmb",
    "outputId": "57a5019b-9ccd-4c79-d1da-05d87b65a7b8"
   },
   "outputs": [
    {
     "name": "stdout",
     "output_type": "stream",
     "text": [
      "KNN 0.5124073797801979\n"
     ]
    }
   ],
   "source": [
    "from sklearn.neighbors import KNeighborsClassifier\n",
    "neigh = KNeighborsClassifier()\n",
    "neigh.fit(X_train, y_train)\n",
    "knn_score = accuracy_score(y_test, neigh.predict(X_test))\n",
    "models_scores['KNN'] = knn_score\n",
    "print('KNN', knn_score)"
   ]
  },
  {
   "cell_type": "markdown",
   "metadata": {
    "colab_type": "text",
    "id": "4nAH2ZO6WvBy"
   },
   "source": [
    "### Prueba con RidgeClassifier"
   ]
  },
  {
   "cell_type": "code",
   "execution_count": 40,
   "metadata": {
    "colab": {},
    "colab_type": "code",
    "executionInfo": {
     "elapsed": 355057,
     "status": "aborted",
     "timestamp": 1598827592731,
     "user": {
      "displayName": "Leonardo Palacios",
      "photoUrl": "https://lh3.googleusercontent.com/a-/AOh14GhsVF6hZqKtVeeOYw6ScOA5hJYPh1n87cD4VKkRMg=s64",
      "userId": "01928733366017714942"
     },
     "user_tz": 180
    },
    "id": "GurZVzlKZdCj"
   },
   "outputs": [],
   "source": [
    "X, y, XX, yy = transform_data(url_train, url_test)\n",
    "X = X.drop(columns=['ScanCount'])\n",
    "X_train, X_test, y_train, y_test = train_test_split(X, y, test_size=0.3, random_state=42, shuffle=False)"
   ]
  },
  {
   "cell_type": "code",
   "execution_count": 41,
   "metadata": {
    "colab": {},
    "colab_type": "code",
    "executionInfo": {
     "elapsed": 355040,
     "status": "aborted",
     "timestamp": 1598827592732,
     "user": {
      "displayName": "Leonardo Palacios",
      "photoUrl": "https://lh3.googleusercontent.com/a-/AOh14GhsVF6hZqKtVeeOYw6ScOA5hJYPh1n87cD4VKkRMg=s64",
      "userId": "01928733366017714942"
     },
     "user_tz": 180
    },
    "id": "uKISMlDVFhkM"
   },
   "outputs": [
    {
     "name": "stdout",
     "output_type": "stream",
     "text": [
      "Ridge 0.481724600924959\n"
     ]
    }
   ],
   "source": [
    "from sklearn.linear_model import RidgeClassifier\n",
    "\n",
    "rc = RidgeClassifier(random_state=42)\n",
    "rc.fit(X_train, y_train)\n",
    "rc_score = accuracy_score(y_test, rc.predict(X_test))\n",
    "models_scores['Ridge'] = rc_score\n",
    "print('Ridge', rc_score)"
   ]
  },
  {
   "cell_type": "markdown",
   "metadata": {
    "colab_type": "text",
    "id": "CBs8KSlw8xLt"
   },
   "source": [
    "### Prueba con SGDClassifier"
   ]
  },
  {
   "cell_type": "code",
   "execution_count": 42,
   "metadata": {
    "colab": {},
    "colab_type": "code",
    "executionInfo": {
     "elapsed": 355033,
     "status": "aborted",
     "timestamp": 1598827592733,
     "user": {
      "displayName": "Leonardo Palacios",
      "photoUrl": "https://lh3.googleusercontent.com/a-/AOh14GhsVF6hZqKtVeeOYw6ScOA5hJYPh1n87cD4VKkRMg=s64",
      "userId": "01928733366017714942"
     },
     "user_tz": 180
    },
    "id": "P5Sbyk878xtm"
   },
   "outputs": [],
   "source": [
    "X, y, XX, yy = transform_data(url_train, url_test)\n",
    "\n",
    "X_train, X_test, y_train, y_test = train_test_split(X, y, test_size=0.3, random_state=42, shuffle=False)"
   ]
  },
  {
   "cell_type": "code",
   "execution_count": 43,
   "metadata": {
    "colab": {},
    "colab_type": "code",
    "executionInfo": {
     "elapsed": 355025,
     "status": "aborted",
     "timestamp": 1598827592733,
     "user": {
      "displayName": "Leonardo Palacios",
      "photoUrl": "https://lh3.googleusercontent.com/a-/AOh14GhsVF6hZqKtVeeOYw6ScOA5hJYPh1n87cD4VKkRMg=s64",
      "userId": "01928733366017714942"
     },
     "user_tz": 180
    },
    "id": "RAtZ6rfpcu92"
   },
   "outputs": [
    {
     "name": "stderr",
     "output_type": "stream",
     "text": [
      "<ipython-input-43-33414c53919f>:2: SettingWithCopyWarning: \n",
      "A value is trying to be set on a copy of a slice from a DataFrame.\n",
      "Try using .loc[row_indexer,col_indexer] = value instead\n",
      "\n",
      "See the caveats in the documentation: https://pandas.pydata.org/pandas-docs/stable/user_guide/indexing.html#returning-a-view-versus-a-copy\n",
      "  X_train['ScaledScanCount'] = MinMaxScaler().fit_transform(X_train[['ScanCountAbs']])\n",
      "<ipython-input-43-33414c53919f>:4: SettingWithCopyWarning: \n",
      "A value is trying to be set on a copy of a slice from a DataFrame.\n",
      "Try using .loc[row_indexer,col_indexer] = value instead\n",
      "\n",
      "See the caveats in the documentation: https://pandas.pydata.org/pandas-docs/stable/user_guide/indexing.html#returning-a-view-versus-a-copy\n",
      "  X_test['ScaledScanCount'] = MinMaxScaler().fit_transform(X_test[['ScanCountAbs']])\n"
     ]
    }
   ],
   "source": [
    "#X_train['ScaledVisitNumber'] = MinMaxScaler().fit_transform(X_train[['VisitNumber']])\n",
    "X_train['ScaledScanCount'] = MinMaxScaler().fit_transform(X_train[['ScanCountAbs']])\n",
    "#X_test['ScaledVisitNumber'] = MinMaxScaler().fit_transform(X_test[['VisitNumber']])\n",
    "X_test['ScaledScanCount'] = MinMaxScaler().fit_transform(X_test[['ScanCountAbs']])\n",
    "\n",
    "X_train = X_train.drop(columns=['VisitNumber','ScanCount','ScanCountAbs'])\n",
    "X_test = X_test.drop(columns=['VisitNumber','ScanCount','ScanCountAbs'])"
   ]
  },
  {
   "cell_type": "code",
   "execution_count": 44,
   "metadata": {
    "colab": {},
    "colab_type": "code",
    "executionInfo": {
     "elapsed": 355016,
     "status": "aborted",
     "timestamp": 1598827592733,
     "user": {
      "displayName": "Leonardo Palacios",
      "photoUrl": "https://lh3.googleusercontent.com/a-/AOh14GhsVF6hZqKtVeeOYw6ScOA5hJYPh1n87cD4VKkRMg=s64",
      "userId": "01928733366017714942"
     },
     "user_tz": 180
    },
    "id": "66SmdT319M3l"
   },
   "outputs": [
    {
     "name": "stdout",
     "output_type": "stream",
     "text": [
      "SGD 0.5818290317768163\n"
     ]
    }
   ],
   "source": [
    "from sklearn.linear_model import SGDClassifier\n",
    "\n",
    "sgd = SGDClassifier(n_jobs=-1, random_state=42)\n",
    "sgd.fit(X_train, y_train)\n",
    "sgd_score = accuracy_score(y_test, sgd.predict(X_test))\n",
    "models_scores['SGD'] = sgd_score\n",
    "print('SGD', sgd_score)"
   ]
  },
  {
   "cell_type": "markdown",
   "metadata": {
    "colab_type": "text",
    "id": "F_IMWxEOfsUZ"
   },
   "source": [
    "### Tunning SGD"
   ]
  },
  {
   "cell_type": "markdown",
   "metadata": {
    "colab_type": "text",
    "id": "by0u7s_H3h1a"
   },
   "source": [
    "*Probamos un RandomizedGridCV de 30 iteraciones con el siguiente set de parametros:*\n",
    "\n",
    "\n",
    "\n",
    "```\n",
    "{ 'loss':('log', 'modified_huber', 'squared_hinge','hinge'), \n",
    "  'penalty':('l2', 'l1', 'elasticnet'),\n",
    "  'learning_rate': ('invscaling', 'adaptive', 'constant'),\n",
    "  'eta0': (0.001, 0.01, 0.1)\n",
    "}\n",
    "```\n",
    "\n",
    "*Luego de descartar aquellos parametros que no 'rankeaban' en el score decidimos hacer un GridSearchCV acotado a aquellos parametros considerados optimos:*\n",
    "\n",
    "```\n",
    "{ 'loss':('log', 'modified_huber', 'squared_hinge'), \n",
    "  'penalty':('l2', 'l1'),\n",
    "  'learning_rate': ('invscaling','adaptive')\n",
    "}\n",
    "```"
   ]
  },
  {
   "cell_type": "code",
   "execution_count": 47,
   "metadata": {
    "colab": {},
    "colab_type": "code",
    "executionInfo": {
     "elapsed": 354983,
     "status": "aborted",
     "timestamp": 1598827592734,
     "user": {
      "displayName": "Leonardo Palacios",
      "photoUrl": "https://lh3.googleusercontent.com/a-/AOh14GhsVF6hZqKtVeeOYw6ScOA5hJYPh1n87cD4VKkRMg=s64",
      "userId": "01928733366017714942"
     },
     "user_tz": 180
    },
    "id": "lY-YiMvXfhTh"
   },
   "outputs": [
    {
     "name": "stderr",
     "output_type": "stream",
     "text": [
      "<ipython-input-47-02099e57ecd8>:5: SettingWithCopyWarning: \n",
      "A value is trying to be set on a copy of a slice from a DataFrame.\n",
      "Try using .loc[row_indexer,col_indexer] = value instead\n",
      "\n",
      "See the caveats in the documentation: https://pandas.pydata.org/pandas-docs/stable/user_guide/indexing.html#returning-a-view-versus-a-copy\n",
      "  X_train['ScaledScanCount'] = MinMaxScaler().fit_transform(X_train[['ScanCountAbs']])\n",
      "<ipython-input-47-02099e57ecd8>:6: SettingWithCopyWarning: \n",
      "A value is trying to be set on a copy of a slice from a DataFrame.\n",
      "Try using .loc[row_indexer,col_indexer] = value instead\n",
      "\n",
      "See the caveats in the documentation: https://pandas.pydata.org/pandas-docs/stable/user_guide/indexing.html#returning-a-view-versus-a-copy\n",
      "  X_test['ScaledScanCount'] = MinMaxScaler().fit_transform(X_test[['ScanCountAbs']])\n"
     ]
    }
   ],
   "source": [
    "## Busqueda del mejor SGD\n",
    "X, y, XX, yy = transform_data(url_train, url_test)\n",
    "X_train, X_test, y_train, y_test = train_test_split(X, y, test_size=0.3, random_state=42, shuffle=False)\n",
    "\n",
    "X_train['ScaledScanCount'] = MinMaxScaler().fit_transform(X_train[['ScanCountAbs']])\n",
    "X_test['ScaledScanCount'] = MinMaxScaler().fit_transform(X_test[['ScanCountAbs']])\n",
    "\n",
    "X_train = X_train.drop(columns=['VisitNumber','ScanCount','ScanCountAbs'])\n",
    "X_test = X_test.drop(columns=['VisitNumber','ScanCount','ScanCountAbs'])"
   ]
  },
  {
   "cell_type": "code",
   "execution_count": 48,
   "metadata": {
    "colab": {},
    "colab_type": "code",
    "executionInfo": {
     "elapsed": 354976,
     "status": "aborted",
     "timestamp": 1598827592735,
     "user": {
      "displayName": "Leonardo Palacios",
      "photoUrl": "https://lh3.googleusercontent.com/a-/AOh14GhsVF6hZqKtVeeOYw6ScOA5hJYPh1n87cD4VKkRMg=s64",
      "userId": "01928733366017714942"
     },
     "user_tz": 180
    },
    "id": "s2ZyA7qzf3l4"
   },
   "outputs": [],
   "source": [
    "sgd_param = {'loss':('log', 'modified_huber'), \n",
    "             'penalty':('l2', 'l1')\n",
    "             }\n",
    "\n",
    "tunn_sgd = SGDClassifier(n_jobs=-1, random_state=42, eta0=0.1, learning_rate='adaptive')\n",
    "sgd_clf = GridSearchCV(tunn_sgd, sgd_param, cv=3, scoring='accuracy')\n",
    "sgd_clf.fit(X_train, y_train)\n",
    "best_sgd_clf = sgd_clf.best_estimator_"
   ]
  },
  {
   "cell_type": "code",
   "execution_count": 49,
   "metadata": {
    "colab": {},
    "colab_type": "code",
    "executionInfo": {
     "elapsed": 354969,
     "status": "aborted",
     "timestamp": 1598827592735,
     "user": {
      "displayName": "Leonardo Palacios",
      "photoUrl": "https://lh3.googleusercontent.com/a-/AOh14GhsVF6hZqKtVeeOYw6ScOA5hJYPh1n87cD4VKkRMg=s64",
      "userId": "01928733366017714942"
     },
     "user_tz": 180
    },
    "id": "MhgORPLaUOG9"
   },
   "outputs": [
    {
     "data": {
      "text/plain": [
       "0.6184569479965899"
      ]
     },
     "execution_count": 49,
     "metadata": {},
     "output_type": "execute_result"
    }
   ],
   "source": [
    "sgd_clf.best_score_"
   ]
  },
  {
   "cell_type": "code",
   "execution_count": 50,
   "metadata": {
    "colab": {},
    "colab_type": "code",
    "executionInfo": {
     "elapsed": 354959,
     "status": "aborted",
     "timestamp": 1598827592735,
     "user": {
      "displayName": "Leonardo Palacios",
      "photoUrl": "https://lh3.googleusercontent.com/a-/AOh14GhsVF6hZqKtVeeOYw6ScOA5hJYPh1n87cD4VKkRMg=s64",
      "userId": "01928733366017714942"
     },
     "user_tz": 180
    },
    "id": "oSxB_IPwY4-l"
   },
   "outputs": [
    {
     "data": {
      "text/plain": [
       "0.543040429658362"
      ]
     },
     "execution_count": 50,
     "metadata": {},
     "output_type": "execute_result"
    }
   ],
   "source": [
    "accuracy_score(y_test, best_sgd_clf.predict(X_test))"
   ]
  },
  {
   "cell_type": "code",
   "execution_count": 51,
   "metadata": {
    "colab": {},
    "colab_type": "code",
    "executionInfo": {
     "elapsed": 354950,
     "status": "aborted",
     "timestamp": 1598827592736,
     "user": {
      "displayName": "Leonardo Palacios",
      "photoUrl": "https://lh3.googleusercontent.com/a-/AOh14GhsVF6hZqKtVeeOYw6ScOA5hJYPh1n87cD4VKkRMg=s64",
      "userId": "01928733366017714942"
     },
     "user_tz": 180
    },
    "id": "drVzGEZ4Y-5X"
   },
   "outputs": [
    {
     "data": {
      "text/html": [
       "<div>\n",
       "<style scoped>\n",
       "    .dataframe tbody tr th:only-of-type {\n",
       "        vertical-align: middle;\n",
       "    }\n",
       "\n",
       "    .dataframe tbody tr th {\n",
       "        vertical-align: top;\n",
       "    }\n",
       "\n",
       "    .dataframe thead th {\n",
       "        text-align: right;\n",
       "    }\n",
       "</style>\n",
       "<table border=\"1\" class=\"dataframe\">\n",
       "  <thead>\n",
       "    <tr style=\"text-align: right;\">\n",
       "      <th></th>\n",
       "      <th>mean_fit_time</th>\n",
       "      <th>std_fit_time</th>\n",
       "      <th>mean_score_time</th>\n",
       "      <th>std_score_time</th>\n",
       "      <th>param_loss</th>\n",
       "      <th>param_penalty</th>\n",
       "      <th>params</th>\n",
       "      <th>split0_test_score</th>\n",
       "      <th>split1_test_score</th>\n",
       "      <th>split2_test_score</th>\n",
       "      <th>mean_test_score</th>\n",
       "      <th>std_test_score</th>\n",
       "      <th>rank_test_score</th>\n",
       "    </tr>\n",
       "  </thead>\n",
       "  <tbody>\n",
       "    <tr>\n",
       "      <th>3</th>\n",
       "      <td>9.91092</td>\n",
       "      <td>0.20353</td>\n",
       "      <td>0.01731</td>\n",
       "      <td>0.00043</td>\n",
       "      <td>modified_huber</td>\n",
       "      <td>l1</td>\n",
       "      <td>{'loss': 'modified_huber', 'penalty': 'l1'}</td>\n",
       "      <td>0.62359</td>\n",
       "      <td>0.61905</td>\n",
       "      <td>0.61272</td>\n",
       "      <td>0.61846</td>\n",
       "      <td>0.00446</td>\n",
       "      <td>1</td>\n",
       "    </tr>\n",
       "    <tr>\n",
       "      <th>0</th>\n",
       "      <td>4.82264</td>\n",
       "      <td>0.02748</td>\n",
       "      <td>0.01629</td>\n",
       "      <td>0.00047</td>\n",
       "      <td>log</td>\n",
       "      <td>l2</td>\n",
       "      <td>{'loss': 'log', 'penalty': 'l2'}</td>\n",
       "      <td>0.62244</td>\n",
       "      <td>0.61957</td>\n",
       "      <td>0.60882</td>\n",
       "      <td>0.61694</td>\n",
       "      <td>0.00586</td>\n",
       "      <td>2</td>\n",
       "    </tr>\n",
       "    <tr>\n",
       "      <th>1</th>\n",
       "      <td>10.27524</td>\n",
       "      <td>0.43108</td>\n",
       "      <td>0.01697</td>\n",
       "      <td>0.00004</td>\n",
       "      <td>log</td>\n",
       "      <td>l1</td>\n",
       "      <td>{'loss': 'log', 'penalty': 'l1'}</td>\n",
       "      <td>0.62340</td>\n",
       "      <td>0.61637</td>\n",
       "      <td>0.60921</td>\n",
       "      <td>0.61633</td>\n",
       "      <td>0.00579</td>\n",
       "      <td>3</td>\n",
       "    </tr>\n",
       "  </tbody>\n",
       "</table>\n",
       "</div>"
      ],
      "text/plain": [
       "   mean_fit_time  std_fit_time  mean_score_time  std_score_time  \\\n",
       "3        9.91092       0.20353          0.01731         0.00043   \n",
       "0        4.82264       0.02748          0.01629         0.00047   \n",
       "1       10.27524       0.43108          0.01697         0.00004   \n",
       "\n",
       "       param_loss param_penalty                                       params  \\\n",
       "3  modified_huber            l1  {'loss': 'modified_huber', 'penalty': 'l1'}   \n",
       "0             log            l2             {'loss': 'log', 'penalty': 'l2'}   \n",
       "1             log            l1             {'loss': 'log', 'penalty': 'l1'}   \n",
       "\n",
       "   split0_test_score  split1_test_score  split2_test_score  mean_test_score  \\\n",
       "3            0.62359            0.61905            0.61272          0.61846   \n",
       "0            0.62244            0.61957            0.60882          0.61694   \n",
       "1            0.62340            0.61637            0.60921          0.61633   \n",
       "\n",
       "   std_test_score  rank_test_score  \n",
       "3         0.00446                1  \n",
       "0         0.00586                2  \n",
       "1         0.00579                3  "
      ]
     },
     "execution_count": 51,
     "metadata": {},
     "output_type": "execute_result"
    }
   ],
   "source": [
    "pd.DataFrame(sgd_clf.cv_results_).sort_values(by='rank_test_score')[:3]"
   ]
  },
  {
   "cell_type": "markdown",
   "metadata": {},
   "source": [
    "*Del top 3 de configuraciones elegimos la 2da ya que arrojaba mejor valor en el test score*"
   ]
  },
  {
   "cell_type": "code",
   "execution_count": 52,
   "metadata": {
    "colab": {},
    "colab_type": "code",
    "executionInfo": {
     "elapsed": 354941,
     "status": "aborted",
     "timestamp": 1598827592736,
     "user": {
      "displayName": "Leonardo Palacios",
      "photoUrl": "https://lh3.googleusercontent.com/a-/AOh14GhsVF6hZqKtVeeOYw6ScOA5hJYPh1n87cD4VKkRMg=s64",
      "userId": "01928733366017714942"
     },
     "user_tz": 180
    },
    "id": "DZ_DJ3nHc3um"
   },
   "outputs": [],
   "source": [
    "best_sgd = SGDClassifier(n_jobs=-1, random_state=42, eta0=0.1, learning_rate='adaptive',loss='log', penalty='l2')\n",
    "best_sgd.fit(X_train, y_train)\n",
    "best_sgd_score = accuracy_score(y_test, best_sgd.predict(X_test))\n",
    "models_scores['Best SGD'] = best_sgd_score\n",
    "print(best_sgd_score)"
   ]
  },
  {
   "cell_type": "markdown",
   "metadata": {},
   "source": [
    "### Prueba con RandomForest"
   ]
  },
  {
   "cell_type": "code",
   "execution_count": 70,
   "metadata": {},
   "outputs": [],
   "source": [
    "from sklearn.ensemble import RandomForestClassifier"
   ]
  },
  {
   "cell_type": "code",
   "execution_count": 150,
   "metadata": {},
   "outputs": [],
   "source": [
    "X, y, XX, yy = transform_data(url_train, url_test)\n",
    "X = X.drop(columns=['VisitNumber','ScanCount'])\n",
    "X_train, X_test, y_train, y_test = train_test_split(X, y, test_size=0.3, random_state=42, shuffle=False)"
   ]
  },
  {
   "cell_type": "code",
   "execution_count": 143,
   "metadata": {},
   "outputs": [
    {
     "name": "stdout",
     "output_type": "stream",
     "text": [
      "Fitting 3 folds for each of 36 candidates, totalling 108 fits\n"
     ]
    },
    {
     "name": "stderr",
     "output_type": "stream",
     "text": [
      "[Parallel(n_jobs=1)]: Using backend SequentialBackend with 1 concurrent workers.\n",
      "[Parallel(n_jobs=1)]: Done 108 out of 108 | elapsed: 18.1min finished\n"
     ]
    }
   ],
   "source": [
    "rf_param = {'max_features': ('sqrt', 'log2'),\n",
    "            'criterion': ('gini','entropy'),\n",
    "            'max_depth':(50, 75),\n",
    "            'n_estimators': (250, 500)            \n",
    "           }\n",
    "\n",
    "tunn_rf = RandomForestClassifier(random_state=42, n_jobs=-1)\n",
    "rf_clf = GridSearchCV(tunn_rf, rf_param, cv=3, scoring='accuracy', verbose=1)\n",
    "rf_clf.fit(X_train, y_train)\n",
    "best_rf_clf = rf_clf.best_estimator_"
   ]
  },
  {
   "cell_type": "code",
   "execution_count": 145,
   "metadata": {},
   "outputs": [
    {
     "data": {
      "text/html": [
       "<div>\n",
       "<style scoped>\n",
       "    .dataframe tbody tr th:only-of-type {\n",
       "        vertical-align: middle;\n",
       "    }\n",
       "\n",
       "    .dataframe tbody tr th {\n",
       "        vertical-align: top;\n",
       "    }\n",
       "\n",
       "    .dataframe thead th {\n",
       "        text-align: right;\n",
       "    }\n",
       "</style>\n",
       "<table border=\"1\" class=\"dataframe\">\n",
       "  <thead>\n",
       "    <tr style=\"text-align: right;\">\n",
       "      <th></th>\n",
       "      <th>rank_test_score</th>\n",
       "      <th>params</th>\n",
       "      <th>mean_test_score</th>\n",
       "    </tr>\n",
       "  </thead>\n",
       "  <tbody>\n",
       "    <tr>\n",
       "      <th>11</th>\n",
       "      <td>1</td>\n",
       "      <td>{'criterion': 'gini', 'max_depth': 50, 'max_features': 'log2', 'n_estimators': 500}</td>\n",
       "      <td>0.66385</td>\n",
       "    </tr>\n",
       "    <tr>\n",
       "      <th>8</th>\n",
       "      <td>2</td>\n",
       "      <td>{'criterion': 'gini', 'max_depth': 50, 'max_features': 'sqrt', 'n_estimators': 500}</td>\n",
       "      <td>0.66373</td>\n",
       "    </tr>\n",
       "    <tr>\n",
       "      <th>7</th>\n",
       "      <td>3</td>\n",
       "      <td>{'criterion': 'gini', 'max_depth': 50, 'max_features': 'sqrt', 'n_estimators': 250}</td>\n",
       "      <td>0.66279</td>\n",
       "    </tr>\n",
       "    <tr>\n",
       "      <th>10</th>\n",
       "      <td>4</td>\n",
       "      <td>{'criterion': 'gini', 'max_depth': 50, 'max_features': 'log2', 'n_estimators': 250}</td>\n",
       "      <td>0.66275</td>\n",
       "    </tr>\n",
       "    <tr>\n",
       "      <th>17</th>\n",
       "      <td>5</td>\n",
       "      <td>{'criterion': 'gini', 'max_depth': 75, 'max_features': 'log2', 'n_estimators': 500}</td>\n",
       "      <td>0.66266</td>\n",
       "    </tr>\n",
       "  </tbody>\n",
       "</table>\n",
       "</div>"
      ],
      "text/plain": [
       "    rank_test_score  \\\n",
       "11                1   \n",
       "8                 2   \n",
       "7                 3   \n",
       "10                4   \n",
       "17                5   \n",
       "\n",
       "                                                                                 params  \\\n",
       "11  {'criterion': 'gini', 'max_depth': 50, 'max_features': 'log2', 'n_estimators': 500}   \n",
       "8   {'criterion': 'gini', 'max_depth': 50, 'max_features': 'sqrt', 'n_estimators': 500}   \n",
       "7   {'criterion': 'gini', 'max_depth': 50, 'max_features': 'sqrt', 'n_estimators': 250}   \n",
       "10  {'criterion': 'gini', 'max_depth': 50, 'max_features': 'log2', 'n_estimators': 250}   \n",
       "17  {'criterion': 'gini', 'max_depth': 75, 'max_features': 'log2', 'n_estimators': 500}   \n",
       "\n",
       "    mean_test_score  \n",
       "11          0.66385  \n",
       "8           0.66373  \n",
       "7           0.66279  \n",
       "10          0.66275  \n",
       "17          0.66266  "
      ]
     },
     "execution_count": 145,
     "metadata": {},
     "output_type": "execute_result"
    }
   ],
   "source": [
    "pd.set_option('display.max_colwidth', 150)\n",
    "pd.DataFrame(rf_clf.cv_results_)[['rank_test_score','params','mean_test_score']].sort_values(by='rank_test_score')[:5]"
   ]
  },
  {
   "cell_type": "code",
   "execution_count": 148,
   "metadata": {},
   "outputs": [
    {
     "name": "stdout",
     "output_type": "stream",
     "text": [
      "RF 0.6717390223283107\n"
     ]
    }
   ],
   "source": [
    "rf_score = accuracy_score(y_test, best_rf_clf.predict(X_test))\n",
    "models_scores['RF'] = rf_score\n",
    "print('RF', rf_score)"
   ]
  },
  {
   "cell_type": "code",
   "execution_count": 152,
   "metadata": {},
   "outputs": [
    {
     "name": "stdout",
     "output_type": "stream",
     "text": [
      "Tabla de Scores:\n"
     ]
    },
    {
     "data": {
      "text/html": [
       "<div>\n",
       "<style scoped>\n",
       "    .dataframe tbody tr th:only-of-type {\n",
       "        vertical-align: middle;\n",
       "    }\n",
       "\n",
       "    .dataframe tbody tr th {\n",
       "        vertical-align: top;\n",
       "    }\n",
       "\n",
       "    .dataframe thead th {\n",
       "        text-align: right;\n",
       "    }\n",
       "</style>\n",
       "<table border=\"1\" class=\"dataframe\">\n",
       "  <thead>\n",
       "    <tr style=\"text-align: right;\">\n",
       "      <th></th>\n",
       "      <th>Accuracy</th>\n",
       "    </tr>\n",
       "  </thead>\n",
       "  <tbody>\n",
       "    <tr>\n",
       "      <th>XGB</th>\n",
       "      <td>0.67368</td>\n",
       "    </tr>\n",
       "    <tr>\n",
       "      <th>RF</th>\n",
       "      <td>0.67174</td>\n",
       "    </tr>\n",
       "    <tr>\n",
       "      <th>Best SGD</th>\n",
       "      <td>0.61962</td>\n",
       "    </tr>\n",
       "    <tr>\n",
       "      <th>SGD</th>\n",
       "      <td>0.58183</td>\n",
       "    </tr>\n",
       "    <tr>\n",
       "      <th>MultiNB</th>\n",
       "      <td>0.54866</td>\n",
       "    </tr>\n",
       "    <tr>\n",
       "      <th>KNN</th>\n",
       "      <td>0.51241</td>\n",
       "    </tr>\n",
       "    <tr>\n",
       "      <th>Ridge</th>\n",
       "      <td>0.48172</td>\n",
       "    </tr>\n",
       "    <tr>\n",
       "      <th>CompNB</th>\n",
       "      <td>0.41379</td>\n",
       "    </tr>\n",
       "    <tr>\n",
       "      <th>GaussNB</th>\n",
       "      <td>0.14844</td>\n",
       "    </tr>\n",
       "  </tbody>\n",
       "</table>\n",
       "</div>"
      ],
      "text/plain": [
       "          Accuracy\n",
       "XGB        0.67368\n",
       "RF         0.67174\n",
       "Best SGD   0.61962\n",
       "SGD        0.58183\n",
       "MultiNB    0.54866\n",
       "KNN        0.51241\n",
       "Ridge      0.48172\n",
       "CompNB     0.41379\n",
       "GaussNB    0.14844"
      ]
     },
     "execution_count": 152,
     "metadata": {},
     "output_type": "execute_result"
    }
   ],
   "source": [
    "print('Tabla de Scores:')\n",
    "pd.DataFrame.from_dict(models_scores, orient='index', columns=['Accuracy']).sort_values(by='Accuracy',ascending=False)"
   ]
  },
  {
   "cell_type": "code",
   "execution_count": 151,
   "metadata": {},
   "outputs": [],
   "source": [
    "XX_vn = XX['VisitNumber'] # Como no utilizamos VisitNumber para el train, lo guardamos en otra variable para luego\n",
    "# insertarlo en el submission.csv\n",
    "\n",
    "XX = XX.drop(columns=['VisitNumber','ScanCount'])\n",
    "yy = best_rf_clf.predict(XX)\n",
    "submission = pd.DataFrame(list(zip(XX_vn, yy)), columns=[\"VisitNumber\", \"TripType\"])\n",
    "submission.to_csv(\"submission.csv\", header=True, index=False)"
   ]
  },
  {
   "cell_type": "code",
   "execution_count": 115,
   "metadata": {},
   "outputs": [],
   "source": []
  },
  {
   "cell_type": "markdown",
   "metadata": {},
   "source": [
    "### YAPA !! Prueba con XGBoost"
   ]
  },
  {
   "cell_type": "markdown",
   "metadata": {},
   "source": [
    "*Las pruebas con XGBoost dieron mejores resultados pero el algoritmo tardaba mucho tiempo en terminar.*\n",
    "\n",
    "*De todas maneras dejamos una pequeña muestra de la implementacion a continuación:*"
   ]
  },
  {
   "cell_type": "code",
   "execution_count": 58,
   "metadata": {},
   "outputs": [],
   "source": [
    "from xgboost import XGBClassifier\n",
    "\n",
    "X, y, XX, yy = transform_data(url_train, url_test)\n",
    "X = X.drop(columns=['ScanCountAbs','BuyReturn'])\n",
    "\n",
    "X_train, X_test, y_train, y_test = train_test_split(X, y, test_size=0.3, random_state=42, shuffle=False)"
   ]
  },
  {
   "cell_type": "code",
   "execution_count": 59,
   "metadata": {},
   "outputs": [
    {
     "name": "stdout",
     "output_type": "stream",
     "text": [
      "XGB 0.6736784524342334\n"
     ]
    }
   ],
   "source": [
    "xgb = XGBClassifier()\n",
    "xgb.fit(X_train, y_train)\n",
    "xgb_score = accuracy_score(y_test, xgb.predict(X_test))\n",
    "models_scores['XGB'] = xgb_score\n",
    "print('XGB', xgb_score)"
   ]
  },
  {
   "cell_type": "code",
   "execution_count": null,
   "metadata": {},
   "outputs": [],
   "source": []
  },
  {
   "cell_type": "code",
   "execution_count": 153,
   "metadata": {},
   "outputs": [
    {
     "name": "stdout",
     "output_type": "stream",
     "text": [
      "Tabla Final de Scores:\n"
     ]
    },
    {
     "data": {
      "text/html": [
       "<div>\n",
       "<style scoped>\n",
       "    .dataframe tbody tr th:only-of-type {\n",
       "        vertical-align: middle;\n",
       "    }\n",
       "\n",
       "    .dataframe tbody tr th {\n",
       "        vertical-align: top;\n",
       "    }\n",
       "\n",
       "    .dataframe thead th {\n",
       "        text-align: right;\n",
       "    }\n",
       "</style>\n",
       "<table border=\"1\" class=\"dataframe\">\n",
       "  <thead>\n",
       "    <tr style=\"text-align: right;\">\n",
       "      <th></th>\n",
       "      <th>Accuracy</th>\n",
       "    </tr>\n",
       "  </thead>\n",
       "  <tbody>\n",
       "    <tr>\n",
       "      <th>XGB</th>\n",
       "      <td>0.67368</td>\n",
       "    </tr>\n",
       "    <tr>\n",
       "      <th>RF</th>\n",
       "      <td>0.67174</td>\n",
       "    </tr>\n",
       "    <tr>\n",
       "      <th>Best SGD</th>\n",
       "      <td>0.61962</td>\n",
       "    </tr>\n",
       "    <tr>\n",
       "      <th>SGD</th>\n",
       "      <td>0.58183</td>\n",
       "    </tr>\n",
       "    <tr>\n",
       "      <th>MultiNB</th>\n",
       "      <td>0.54866</td>\n",
       "    </tr>\n",
       "    <tr>\n",
       "      <th>KNN</th>\n",
       "      <td>0.51241</td>\n",
       "    </tr>\n",
       "    <tr>\n",
       "      <th>Ridge</th>\n",
       "      <td>0.48172</td>\n",
       "    </tr>\n",
       "    <tr>\n",
       "      <th>CompNB</th>\n",
       "      <td>0.41379</td>\n",
       "    </tr>\n",
       "    <tr>\n",
       "      <th>GaussNB</th>\n",
       "      <td>0.14844</td>\n",
       "    </tr>\n",
       "  </tbody>\n",
       "</table>\n",
       "</div>"
      ],
      "text/plain": [
       "          Accuracy\n",
       "XGB        0.67368\n",
       "RF         0.67174\n",
       "Best SGD   0.61962\n",
       "SGD        0.58183\n",
       "MultiNB    0.54866\n",
       "KNN        0.51241\n",
       "Ridge      0.48172\n",
       "CompNB     0.41379\n",
       "GaussNB    0.14844"
      ]
     },
     "execution_count": 153,
     "metadata": {},
     "output_type": "execute_result"
    }
   ],
   "source": [
    "print('Tabla Final de Scores:')\n",
    "pd.DataFrame.from_dict(models_scores, orient='index', columns=['Accuracy']).sort_values(by='Accuracy',ascending=False)"
   ]
  }
 ],
 "metadata": {
  "colab": {
   "collapsed_sections": [
    "FAOC0tnOwFft",
    "lgXGssYhFemb",
    "4nAH2ZO6WvBy",
    "CBs8KSlw8xLt"
   ],
   "name": "AS_Practico.ipynb",
   "provenance": []
  },
  "kernelspec": {
   "display_name": "Python 3",
   "language": "python",
   "name": "python3"
  },
  "language_info": {
   "codemirror_mode": {
    "name": "ipython",
    "version": 3
   },
   "file_extension": ".py",
   "mimetype": "text/x-python",
   "name": "python",
   "nbconvert_exporter": "python",
   "pygments_lexer": "ipython3",
   "version": "3.8.5"
  }
 },
 "nbformat": 4,
 "nbformat_minor": 1
}
