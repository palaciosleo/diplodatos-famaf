{
 "cells": [
  {
   "cell_type": "code",
   "execution_count": 8,
   "metadata": {},
   "outputs": [],
   "source": [
    "import pandas as pd\n",
    "import numpy as np\n",
    "from sklearn.linear_model import LinearRegression, SGDRegressor, Ridge, Lasso, ElasticNet\n",
    "from sklearn.svm import LinearSVR\n",
    "from sklearn.ensemble import RandomForestRegressor,VotingRegressor\n",
    "from sklearn.neighbors import KNeighborsRegressor\n",
    "from sklearn.tree import DecisionTreeRegressor\n",
    "from sklearn.model_selection import train_test_split\n",
    "from sklearn.utils import shuffle\n",
    "from sklearn.metrics import mean_squared_error, r2_score, mean_absolute_error\n",
    "from sklearn.preprocessing import MinMaxScaler\n",
    "from xgboost import XGBRegressor"
   ]
  },
  {
   "cell_type": "code",
   "execution_count": null,
   "metadata": {},
   "outputs": [],
   "source": [
    "url_train = 'https://github.com/palaciosleo/diplodatos-famaf/raw/master/mentoria/models/psp_train_{k}.pkl'\n",
    "url_eval = 'https://github.com/palaciosleo/diplodatos-famaf/raw/master/mentoria/models/psp_eval.pkl'"
   ]
  },
  {
   "cell_type": "code",
   "execution_count": null,
   "metadata": {},
   "outputs": [],
   "source": [
    "model_scores = dict()\n",
    "\n",
    "#regressor = DecisionTreeRegressor(max_depth=7, max_features='auto',min_samples_split=5,min_samples_leaf=5)\n",
    "#regressor = XGBRegressor(learning_rate=0.1, max_depth=7)\n",
    "regressor = KNeighborsRegressor(n_neighbors=3, weights='distance')\n",
    "for k in range(0, 15):\n",
    "    model = pd.read_pickle(url_train.format(k=k), compression='zip')\n",
    "    model.drop(columns=['um_cc', 'um_gr', 'um_kg', 'um_lt', 'um_ml', 'um_mt', 'um_pack', 'um_un'], inplace=True)\n",
    "    model.drop(columns=['fecha_20200412', 'fecha_20200419', 'fecha_20200426', 'fecha_20200502', 'fecha_20200518'], inplace=True)\n",
    "    model.drop(columns=['suctipo_autoservicio', 'suctipo_hipermercado', 'suctipo_minorista', 'suctipo_supermercado'], inplace=True)\n",
    "\n",
    "    y = model['precio_relativo']\n",
    "    X = model.drop(columns=['precio_relativo'])\n",
    "\n",
    "    X_train, X_test, y_train, y_test = train_test_split(X, y, test_size=0.2)\n",
    "    \n",
    "    regressor.fit(X_train, y_train)\n",
    "    \n",
    "    x_pred = regressor.predict(X_train)\n",
    "    y_pred = regressor.predict(X_test)\n",
    "    \n",
    "    train_score = round(r2_score(y_train, x_pred), 3)\n",
    "    test_score = round(r2_score(y_test, y_pred), 3)\n",
    "    \n",
    "    print(str(k), ' - train:', train_score, ' - test:', test_score)"
   ]
  },
  {
   "cell_type": "code",
   "execution_count": null,
   "metadata": {},
   "outputs": [],
   "source": [
    "eval_model = pd.read_pickle(url_eval, compression='zip')\n",
    "eval_model.drop(columns=['um_cc', 'um_gr', 'um_kg', 'um_lt', 'um_ml', 'um_mt', 'um_pack', 'um_un'], inplace=True)\n",
    "eval_model.drop(columns=['fecha_20200412', 'fecha_20200419', 'fecha_20200426', 'fecha_20200502', 'fecha_20200518'], inplace=True)\n",
    "eval_model.drop(columns=['suctipo_autoservicio', 'suctipo_hipermercado', 'suctipo_minorista', 'suctipo_supermercado'], inplace=True)\n",
    "\n",
    "y_eval = eval_model['precio_relativo']\n",
    "X_eval = eval_model.drop(columns=['precio_relativo'])\n",
    "\n",
    "y_pred = regressor.predict(X_eval)\n",
    "print('test:', round(r2_score(y_eval, y_pred), 3))"
   ]
  },
  {
   "cell_type": "code",
   "execution_count": null,
   "metadata": {},
   "outputs": [],
   "source": []
  },
  {
   "cell_type": "code",
   "execution_count": 9,
   "metadata": {},
   "outputs": [],
   "source": [
    "url = '../models/precio_sucursal_producto_400.pkl'\n",
    "dataset = pd.read_pickle(url, compression='zip')"
   ]
  },
  {
   "cell_type": "code",
   "execution_count": null,
   "metadata": {},
   "outputs": [],
   "source": [
    "def get_dataset_ready(dataset, muestras=10000):\n",
    "    _ds_shuff = shuffle(dataset)\n",
    "    X_full = _ds_shuff.iloc[:,:-1]\n",
    "    y_full = _ds_shuff.iloc[:,-1]\n",
    "    del _ds_shuff\n",
    "    X_full['precio_producto_mean'] = MinMaxScaler().fit_transform(X_full[['precio_producto_mean']])\n",
    "    y_full['precio_producto_mean'] = MinMaxScaler().fit_transform(y_full[['precio_producto_mean']])\n",
    "    X = X_full.iloc[:muestras,:].to_numpy()\n",
    "    y = y_full.iloc[:muestras].to_numpy()\n",
    "\n",
    "    del X_full\n",
    "    del y_full \n",
    "\n",
    "    return train_test_split(X, y, test_size=0.20, random_state=42)"
   ]
  },
  {
   "cell_type": "code",
   "execution_count": 10,
   "metadata": {},
   "outputs": [],
   "source": [
    "def get_dataset_ready_2(dataset, muestras=10000):\n",
    "    _ds_shuff = shuffle(dataset)\n",
    "    X_full = _ds_shuff.iloc[:,:-1]\n",
    "    y_full = _ds_shuff.iloc[:,-1]\n",
    "    del _ds_shuff\n",
    "    \n",
    "    X = X_full.iloc[:muestras,:]#.to_numpy()\n",
    "    y = y_full.iloc[:muestras]#.to_numpy()\n",
    "\n",
    "    del X_full\n",
    "    del y_full \n",
    "\n",
    "    return train_test_split(X, y, test_size=0.20, random_state=42)\n"
   ]
  },
  {
   "cell_type": "code",
   "execution_count": 11,
   "metadata": {},
   "outputs": [],
   "source": [
    "def get_scores(labels, predictions):\n",
    "    mae = mean_absolute_error(labels, predictions)\n",
    "    rmse = np.sqrt(mean_squared_error(labels, predictions))\n",
    "    r2 = r2_score(labels, predictions)\n",
    "    \n",
    "    return {'mae':mae, 'rmse':rmse, 'r2':r2}"
   ]
  },
  {
   "cell_type": "code",
   "execution_count": null,
   "metadata": {},
   "outputs": [],
   "source": [
    "# Seleccion de Columnas\n",
    "## DROP UM\n",
    "#dataset.drop(columns=['um_cc'], inplace=True) # Dummy trap!\n",
    "dataset.drop(columns=['um_cc', 'um_gr', 'um_kg', 'um_lt', 'um_ml', 'um_mt', 'um_pack', 'um_un'], inplace=True)\n",
    "\n",
    "\n",
    "## DROP FECHA\n",
    "#dataset.drop(columns=['fecha_20200412'], inplace=True) # Dummy trap!\n",
    "dataset.drop(columns=['fecha_20200412', 'fecha_20200419', 'fecha_20200426', 'fecha_20200502', 'fecha_20200518'], inplace=True)\n",
    "\n",
    "\n",
    "## DROP SUCURSAL TIPO\n",
    "#dataset.drop(columns=['suctipo_autoservicio'], inplace=True) # Dummy trap!\n",
    "dataset.drop(columns=['suctipo_autoservicio', 'suctipo_hipermercado','suctipo_minorista', 'suctipo_supermercado'], inplace=True)\n",
    "\n",
    "\n",
    "## DROP BANDERA DESCRIPCION\n",
    "#dataset.drop(columns=['banddesc_axion_energy', 'banddesc_changomas', 'banddesc_cooperativa_obrera_limitada_de_consumo_y_vivienda', 'banddesc_coto_cicsa', 'banddesc_deheza_saicf_e_i', 'banddesc_disco',\n",
    "#       'banddesc_express', 'banddesc_hipermercado_carrefour', 'banddesc_la_anonima', 'banddesc_market', 'banddesc_otras_bandDesc', 'banddesc_simplicity', 'banddesc_supermercados_cordiez',\n",
    "#       'banddesc_supermercados_dia', 'banddesc_vea', 'banddesc_walmart_supercenter'], inplace=True)"
   ]
  },
  {
   "cell_type": "code",
   "execution_count": 12,
   "metadata": {},
   "outputs": [],
   "source": [
    "X_train, X_test, y_train, y_test = get_dataset_ready_2(dataset, 1500000)\n",
    "del dataset"
   ]
  },
  {
   "cell_type": "code",
   "execution_count": 13,
   "metadata": {},
   "outputs": [],
   "source": [
    "X_train.drop(columns=['um_cc', 'um_gr', 'um_kg', 'um_lt', 'um_ml', 'um_mt', 'um_pack', 'um_un'], inplace=True)\n",
    "X_train.drop(columns=['fecha_20200412', 'fecha_20200419', 'fecha_20200426', 'fecha_20200502', 'fecha_20200518'], inplace=True)\n",
    "X_train.drop(columns=['suctipo_autoservicio', 'suctipo_hipermercado','suctipo_minorista', 'suctipo_supermercado'], inplace=True)\n",
    "\n",
    "X_test.drop(columns=['um_cc', 'um_gr', 'um_kg', 'um_lt', 'um_ml', 'um_mt', 'um_pack', 'um_un'], inplace=True)\n",
    "X_test.drop(columns=['fecha_20200412', 'fecha_20200419', 'fecha_20200426', 'fecha_20200502', 'fecha_20200518'], inplace=True)\n",
    "X_test.drop(columns=['suctipo_autoservicio', 'suctipo_hipermercado','suctipo_minorista', 'suctipo_supermercado'], inplace=True)"
   ]
  },
  {
   "cell_type": "code",
   "execution_count": 14,
   "metadata": {},
   "outputs": [],
   "source": [
    "X_train['precio_producto_mean'] = MinMaxScaler().fit_transform(X_train[['precio_producto_mean']])"
   ]
  },
  {
   "cell_type": "code",
   "execution_count": 15,
   "metadata": {},
   "outputs": [],
   "source": [
    "X_test['precio_producto_mean'] = MinMaxScaler().fit_transform(X_test[['precio_producto_mean']])"
   ]
  },
  {
   "cell_type": "code",
   "execution_count": 21,
   "metadata": {},
   "outputs": [
    {
     "data": {
      "text/plain": [
       "LinearRegression()"
      ]
     },
     "execution_count": 21,
     "metadata": {},
     "output_type": "execute_result"
    }
   ],
   "source": [
    "from sklearn.linear_model import LinearRegression\n",
    "\n",
    "lr = LinearRegression()\n",
    "lr.fit(X_train, y_train)"
   ]
  },
  {
   "cell_type": "code",
   "execution_count": 22,
   "metadata": {},
   "outputs": [
    {
     "name": "stdout",
     "output_type": "stream",
     "text": [
      "{'mae': 3.890351685921863, 'rmse': 14.773176944426236, 'r2': 0.20119784551421804}\n",
      "{'mae': 3.8911945763137634, 'rmse': 13.66521170226754, 'r2': 0.2286650880223392}\n"
     ]
    }
   ],
   "source": [
    "y_train_pred = lr.predict(X_train)\n",
    "y_pred = lr.predict(X_test)\n",
    "\n",
    "print(get_scores(y_train, y_train_pred))\n",
    "print(get_scores(y_test, y_pred))\n"
   ]
  },
  {
   "cell_type": "code",
   "execution_count": 16,
   "metadata": {},
   "outputs": [],
   "source": [
    "from sklearn.linear_model import SGDRegressor"
   ]
  },
  {
   "cell_type": "code",
   "execution_count": 17,
   "metadata": {},
   "outputs": [
    {
     "data": {
      "text/plain": [
       "SGDRegressor()"
      ]
     },
     "execution_count": 17,
     "metadata": {},
     "output_type": "execute_result"
    }
   ],
   "source": [
    "sgd = SGDRegressor()\n",
    "sgd.fit(X_train, y_train)"
   ]
  },
  {
   "cell_type": "code",
   "execution_count": 18,
   "metadata": {},
   "outputs": [
    {
     "data": {
      "text/plain": [
       "146"
      ]
     },
     "execution_count": 18,
     "metadata": {},
     "output_type": "execute_result"
    }
   ],
   "source": [
    "sgd.n_iter_"
   ]
  },
  {
   "cell_type": "code",
   "execution_count": 19,
   "metadata": {},
   "outputs": [
    {
     "data": {
      "text/plain": [
       "175200001.0"
      ]
     },
     "execution_count": 19,
     "metadata": {},
     "output_type": "execute_result"
    }
   ],
   "source": [
    "sgd.t_"
   ]
  },
  {
   "cell_type": "code",
   "execution_count": 20,
   "metadata": {},
   "outputs": [
    {
     "name": "stdout",
     "output_type": "stream",
     "text": [
      "{'mae': 3.8664559849242237, 'rmse': 14.834219183269473, 'r2': 0.19458296358831595}\n",
      "{'mae': 3.86918480021104, 'rmse': 13.728301435376174, 'r2': 0.2215264282609981}\n"
     ]
    }
   ],
   "source": [
    "y_train_pred = sgd.predict(X_train)\n",
    "y_pred = sgd.predict(X_test)\n",
    "\n",
    "print(get_scores(y_train, y_train_pred))\n",
    "print(get_scores(y_test, y_pred))"
   ]
  },
  {
   "cell_type": "code",
   "execution_count": 23,
   "metadata": {},
   "outputs": [
    {
     "data": {
      "text/plain": [
       "Ridge()"
      ]
     },
     "execution_count": 23,
     "metadata": {},
     "output_type": "execute_result"
    }
   ],
   "source": [
    "from sklearn.linear_model import Ridge\n",
    "ridge = Ridge()\n",
    "\n",
    "ridge.fit(X_train, y_train)"
   ]
  },
  {
   "cell_type": "code",
   "execution_count": 24,
   "metadata": {},
   "outputs": [
    {
     "name": "stdout",
     "output_type": "stream",
     "text": [
      "{'mae': 3.8885707186705813, 'rmse': 14.773192494317383, 'r2': 0.20119616391341755}\n",
      "{'mae': 3.8893517211816904, 'rmse': 13.664968929315009, 'r2': 0.22869249448989337}\n"
     ]
    }
   ],
   "source": [
    "y_train_pred = ridge.predict(X_train)\n",
    "y_pred = ridge.predict(X_test)\n",
    "\n",
    "print(get_scores(y_train, y_train_pred))\n",
    "print(get_scores(y_test, y_pred))"
   ]
  },
  {
   "cell_type": "code",
   "execution_count": 25,
   "metadata": {},
   "outputs": [
    {
     "data": {
      "text/plain": [
       "Lasso()"
      ]
     },
     "execution_count": 25,
     "metadata": {},
     "output_type": "execute_result"
    }
   ],
   "source": [
    "from sklearn.linear_model import Lasso\n",
    "lasso = Lasso()\n",
    "\n",
    "lasso.fit(X_train, y_train)"
   ]
  },
  {
   "cell_type": "code",
   "execution_count": 26,
   "metadata": {},
   "outputs": [
    {
     "name": "stdout",
     "output_type": "stream",
     "text": [
      "{'mae': 4.489235450165141, 'rmse': 16.529293293732223, 'r2': 0.0}\n",
      "{'mae': 4.493877840133395, 'rmse': 15.559472588105974, 'r2': -9.246133636509057e-09}\n"
     ]
    }
   ],
   "source": [
    "y_train_pred = lasso.predict(X_train)\n",
    "y_pred = lasso.predict(X_test)\n",
    "\n",
    "print(get_scores(y_train, y_train_pred))\n",
    "print(get_scores(y_test, y_pred))"
   ]
  }
 ],
 "metadata": {
  "kernelspec": {
   "display_name": "Python 3",
   "language": "python",
   "name": "python3"
  },
  "language_info": {
   "codemirror_mode": {
    "name": "ipython",
    "version": 3
   },
   "file_extension": ".py",
   "mimetype": "text/x-python",
   "name": "python",
   "nbconvert_exporter": "python",
   "pygments_lexer": "ipython3",
   "version": "3.8.5"
  }
 },
 "nbformat": 4,
 "nbformat_minor": 4
}
