{
 "cells": [
  {
   "cell_type": "code",
   "execution_count": 2,
   "metadata": {},
   "outputs": [],
   "source": [
    "import pandas as pd\n",
    "from sklearn.linear_model import LinearRegression, SGDRegressor, Ridge, Lasso, ElasticNet\n",
    "from sklearn.svm import LinearSVR\n",
    "from sklearn.ensemble import RandomForestRegressor,VotingRegressor\n",
    "from sklearn.neighbors import KNeighborsRegressor\n",
    "from sklearn.tree import DecisionTreeRegressor\n",
    "from sklearn.model_selection import train_test_split\n",
    "from sklearn.metrics import mean_squared_error, r2_score\n",
    "from xgboost import XGBRegressor"
   ]
  },
  {
   "cell_type": "code",
   "execution_count": 3,
   "metadata": {},
   "outputs": [],
   "source": [
    "url_train = 'https://github.com/palaciosleo/diplodatos-famaf/raw/master/mentoria/models/psp_train_{k}.pkl'\n",
    "url_eval = 'https://github.com/palaciosleo/diplodatos-famaf/raw/master/mentoria/models/psp_eval.pkl'"
   ]
  },
  {
   "cell_type": "code",
   "execution_count": 4,
   "metadata": {},
   "outputs": [
    {
     "name": "stdout",
     "output_type": "stream",
     "text": [
      "0  - train: 0.764  - test: 0.127\n",
      "1  - train: 0.725  - test: -0.094\n",
      "2  - train: 0.774  - test: -0.45\n",
      "3  - train: 0.761  - test: 0.017\n",
      "4  - train: 0.802  - test: 0.146\n",
      "5  - train: 0.715  - test: 0.041\n",
      "6  - train: 0.474  - test: 0.255\n",
      "7  - train: 0.731  - test: -0.189\n",
      "8  - train: 0.842  - test: 0.215\n",
      "9  - train: 0.783  - test: 0.028\n",
      "10  - train: 0.786  - test: -1.489\n",
      "11  - train: 0.846  - test: 0.221\n",
      "12  - train: 0.78  - test: -0.381\n",
      "13  - train: 0.71  - test: -0.057\n",
      "14  - train: 0.812  - test: 0.173\n"
     ]
    }
   ],
   "source": [
    "model_scores = dict()\n",
    "\n",
    "regressor = DecisionTreeRegressor()\n",
    "\n",
    "for k in range(0, 15):\n",
    "    model = pd.read_pickle(url_train.format(k=k), compression='zip')\n",
    "    model.drop(columns=['um_cc', 'um_gr', 'um_kg', 'um_lt', 'um_ml', 'um_mt', 'um_pack', 'um_un'], inplace=True)\n",
    "    model.drop(columns=['fecha_20200412', 'fecha_20200419', 'fecha_20200426', 'fecha_20200502', 'fecha_20200518'], inplace=True)\n",
    "    model.drop(columns=['suctipo_autoservicio', 'suctipo_hipermercado', 'suctipo_minorista', 'suctipo_supermercado'], inplace=True)\n",
    "\n",
    "    y = model['precio_relativo']\n",
    "    X = model.drop(columns=['precio_relativo'])\n",
    "\n",
    "    X_train, X_test, y_train, y_test = train_test_split(X, y, test_size=0.2)\n",
    "    \n",
    "    regressor.fit(X_train, y_train)\n",
    "    \n",
    "    x_pred = regressor.predict(X_train)\n",
    "    y_pred = regressor.predict(X_test)\n",
    "    \n",
    "    train_score = round(r2_score(y_train, x_pred), 3)\n",
    "    test_score = round(r2_score(y_test, y_pred), 3)\n",
    "    \n",
    "    print(str(k), ' - train:', train_score, ' - test:', test_score)"
   ]
  },
  {
   "cell_type": "code",
   "execution_count": 5,
   "metadata": {},
   "outputs": [
    {
     "name": "stdout",
     "output_type": "stream",
     "text": [
      "test: -0.069\n"
     ]
    }
   ],
   "source": [
    "eval_model = pd.read_pickle(url_eval, compression='zip')\n",
    "eval_model.drop(columns=['um_cc', 'um_gr', 'um_kg', 'um_lt', 'um_ml', 'um_mt', 'um_pack', 'um_un'], inplace=True)\n",
    "eval_model.drop(columns=['fecha_20200412', 'fecha_20200419', 'fecha_20200426', 'fecha_20200502', 'fecha_20200518'], inplace=True)\n",
    "eval_model.drop(columns=['suctipo_autoservicio', 'suctipo_hipermercado', 'suctipo_minorista', 'suctipo_supermercado'], inplace=True)\n",
    "\n",
    "y_eval = eval_model['precio_relativo']\n",
    "X_eval = eval_model.drop(columns=['precio_relativo'])\n",
    "\n",
    "y_pred = regressor.predict(X_eval)\n",
    "print('test:', round(r2_score(y_eval, y_pred), 3))"
   ]
  },
  {
   "cell_type": "code",
   "execution_count": null,
   "metadata": {},
   "outputs": [],
   "source": []
  },
  {
   "cell_type": "code",
   "execution_count": null,
   "metadata": {},
   "outputs": [],
   "source": []
  }
 ],
 "metadata": {
  "kernelspec": {
   "display_name": "Python 3",
   "language": "python",
   "name": "python3"
  },
  "language_info": {
   "codemirror_mode": {
    "name": "ipython",
    "version": 3
   },
   "file_extension": ".py",
   "mimetype": "text/x-python",
   "name": "python",
   "nbconvert_exporter": "python",
   "pygments_lexer": "ipython3",
   "version": "3.8.5"
  }
 },
 "nbformat": 4,
 "nbformat_minor": 4
}
